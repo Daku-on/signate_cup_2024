{
 "cells": [
  {
   "cell_type": "markdown",
   "metadata": {},
   "source": [
    "# とりあえずNNを回す"
   ]
  },
  {
   "cell_type": "code",
   "execution_count": 1,
   "metadata": {},
   "outputs": [
    {
     "name": "stderr",
     "output_type": "stream",
     "text": [
      "/Users/takako/Desktop/GitHub/signate_cup_2024/.venv/lib/python3.10/site-packages/tqdm/auto.py:21: TqdmWarning: IProgress not found. Please update jupyter and ipywidgets. See https://ipywidgets.readthedocs.io/en/stable/user_install.html\n",
      "  from .autonotebook import tqdm as notebook_tqdm\n"
     ]
    }
   ],
   "source": [
    "import os\n",
    "from datetime import datetime\n",
    "import torch\n",
    "import torch.nn as nn\n",
    "import torch.optim as optim\n",
    "from torch.utils.data import Dataset, DataLoader\n",
    "import pandas as pd\n",
    "import polars as pl\n",
    "from sklearn.preprocessing import OrdinalEncoder, StandardScaler\n",
    "from sklearn.model_selection import train_test_split\n",
    "from sklearn.metrics import roc_auc_score, roc_curve\n",
    "from matplotlib import pyplot as plt\n",
    "import mlflow\n",
    "import mlflow.pytorch"
   ]
  },
  {
   "cell_type": "code",
   "execution_count": 2,
   "metadata": {},
   "outputs": [],
   "source": [
    "import preprocess_for_all_models as my_preprocess\n",
    "import word2vec_for_categorical_col as my_word2vec\n",
    "import preprocess_for_nn as my_nn_preprocess"
   ]
  },
  {
   "cell_type": "markdown",
   "metadata": {},
   "source": [
    "## 各種定数"
   ]
  },
  {
   "cell_type": "code",
   "execution_count": 3,
   "metadata": {},
   "outputs": [],
   "source": [
    "RANDOM_STATE = 42\n",
    "DEVICE = torch.device(\"cuda\" if torch.cuda.is_available() else \"cpu\")\n",
    "BATCH_SIZE = 64\n",
    "NUM_EPOCHS = 100\n",
    "LEARNING_RATE = 0.001\n",
    "TARGET_COLUMN = \"ProdTaken\"\n",
    "DROP_COLUMNS = [\"id\", \"MonthlyIncome\", \"customer_info\"]"
   ]
  },
  {
   "cell_type": "code",
   "execution_count": 4,
   "metadata": {},
   "outputs": [],
   "source": [
    "# 今日の日付を取得し、YYYYMMDD形式にフォーマットする\n",
    "today_str: str = datetime.now().strftime(\"%Y%m%d\")\n",
    "\n",
    "# 今日の日付をディレクトリ名として設定\n",
    "data_directory_name: str = \"../data/\" + today_str\n",
    "model_directory_name: str = \"../models/\" + today_str\n",
    "\n",
    "# ディレクトリが存在しない場合、作成する\n",
    "if not os.path.exists(data_directory_name):\n",
    "    os.makedirs(data_directory_name)\n",
    "if not os.path.exists(model_directory_name):\n",
    "    os.makedirs(model_directory_name)\n"
   ]
  },
  {
   "cell_type": "markdown",
   "metadata": {},
   "source": [
    "## 前処理"
   ]
  },
  {
   "cell_type": "code",
   "execution_count": 5,
   "metadata": {},
   "outputs": [],
   "source": [
    "# ローカルファイルを読み込む\n",
    "train_df = pd.read_csv(\"../data/train.csv\")\n",
    "test_df = pd.read_csv(\"../data/test.csv\")\n",
    "# google colaboratory で実行する場合は以下を有効にする\n",
    "# from google.colab import drive\n",
    "# drive.mount('/content/drive')\n",
    "# train_df = pd.read_csv(\"/content/drive/mydrive/signate_cup_2024_data/train.csv\")\n",
    "# test_df = pd.read_csv(\"/content/drive/mydrive/signate_cup_2024_data/test.csv\")"
   ]
  },
  {
   "cell_type": "code",
   "execution_count": 6,
   "metadata": {},
   "outputs": [],
   "source": [
    "# すべてのモデルに共通する前処理を実施\n",
    "train_df, test_df = my_preprocess.preprocess_total(train_df, test_df)"
   ]
  },
  {
   "cell_type": "code",
   "execution_count": 7,
   "metadata": {},
   "outputs": [],
   "source": [
    "# word2vecを使用してカテゴリカル変数をエンベディング\n",
    "train_df, test_df = my_word2vec.word2vec_for_customer_info(\n",
    "    train_df,test_df\n",
    ")"
   ]
  },
  {
   "cell_type": "code",
   "execution_count": 8,
   "metadata": {},
   "outputs": [],
   "source": [
    "train_df, test_df = my_nn_preprocess.preprocess_data(train_df, test_df)"
   ]
  },
  {
   "cell_type": "markdown",
   "metadata": {},
   "source": [
    "## 学習用データの設定"
   ]
  },
  {
   "cell_type": "code",
   "execution_count": 9,
   "metadata": {},
   "outputs": [],
   "source": [
    "X_train = train_df.drop(columns=[TARGET_COLUMN, \"id\"])  # 入力データ\n",
    "y_train = train_df[TARGET_COLUMN]  # ターゲット変数"
   ]
  },
  {
   "cell_type": "code",
   "execution_count": 10,
   "metadata": {},
   "outputs": [],
   "source": [
    "# 検証用データの作成\n",
    "X_train, X_val, y_train, y_val = train_test_split(X_train, y_train, test_size=0.2, random_state=RANDOM_STATE)"
   ]
  },
  {
   "cell_type": "markdown",
   "metadata": {},
   "source": [
    "### データローダの設定"
   ]
  },
  {
   "cell_type": "code",
   "execution_count": 11,
   "metadata": {},
   "outputs": [],
   "source": [
    "# PyTorch用のデータセットを作成\n",
    "class TrainDataset(Dataset):\n",
    "    def __init__(self, X, y):\n",
    "        self.X = torch.tensor(X.values, dtype=torch.float32)\n",
    "        self.y = torch.tensor(y.values, dtype=torch.float32)\n",
    "\n",
    "    def __len__(self):\n",
    "        return len(self.X)\n",
    "\n",
    "    def __getitem__(self, idx):\n",
    "        return self.X[idx], self.y[idx]\n",
    "\n",
    "# データセットの作成\n",
    "train_dataset = TrainDataset(X_train, y_train)\n",
    "val_dataset = TrainDataset(X_val, y_val)\n",
    "\n",
    "# データローダーの作成\n",
    "train_loader = DataLoader(\n",
    "    train_dataset,\n",
    "    batch_size=BATCH_SIZE,\n",
    "    shuffle=True\n",
    ")\n",
    "val_loader = DataLoader(\n",
    "    val_dataset,\n",
    "    batch_size=BATCH_SIZE,\n",
    "    shuffle=False\n",
    ")\n"
   ]
  },
  {
   "cell_type": "code",
   "execution_count": 12,
   "metadata": {},
   "outputs": [],
   "source": [
    "class SimpleNN(nn.Module):\n",
    "    def __init__(self, input_dim):\n",
    "        super(SimpleNN, self).__init__()\n",
    "        self.fc1 = nn.Linear(input_dim, 64)\n",
    "        self.fc2 = nn.Linear(64, 32)\n",
    "        self.fc3 = nn.Linear(32, 1)\n",
    "        self.relu = nn.ReLU()\n",
    "        self.sigmoid = nn.Sigmoid()\n",
    "\n",
    "    def forward(self, x):\n",
    "        x = self.relu(self.fc1(x))\n",
    "        x = self.relu(self.fc2(x))\n",
    "        x = self.sigmoid(self.fc3(x))\n",
    "        return x\n",
    "\n",
    "# モデルのインスタンス化\n",
    "model = SimpleNN(input_dim=X_train.shape[1])\n"
   ]
  },
  {
   "cell_type": "code",
   "execution_count": 13,
   "metadata": {},
   "outputs": [],
   "source": [
    "criterion = nn.BCELoss()  # バイナリクロスエントロピー損失\n",
    "optimizer = optim.Adam(model.parameters(), lr=LEARNING_RATE)"
   ]
  },
  {
   "cell_type": "code",
   "execution_count": 14,
   "metadata": {},
   "outputs": [
    {
     "name": "stdout",
     "output_type": "stream",
     "text": [
      "Epoch 1/100, Training Loss: 0.5052300535819747, Train_AUC: [0.5352449112371038] Validation Loss: 0.3839980526403947, val_AUC: 0.5788873400076036\n",
      "Epoch 2/100, Training Loss: 0.3972336788746444, Train_AUC: [0.5352449112371038, 0.6594076277225268] Validation Loss: 0.3577906949953599, val_AUC: 0.729076524793164\n",
      "Epoch 3/100, Training Loss: 0.370411597869613, Train_AUC: [0.5352449112371038, 0.6594076277225268, 0.7467980295566502] Validation Loss: 0.3306460136717016, val_AUC: 0.7916251787750964\n",
      "Epoch 4/100, Training Loss: 0.349150801924142, Train_AUC: [0.5352449112371038, 0.6594076277225268, 0.7467980295566502, 0.7834743005855561] Validation Loss: 0.3092153763229197, val_AUC: 0.8148523634520339\n",
      "Epoch 5/100, Training Loss: 0.3374207405881448, Train_AUC: [0.5352449112371038, 0.6594076277225268, 0.7467980295566502, 0.7834743005855561, 0.7895209178878665] Validation Loss: 0.3029670173471624, val_AUC: 0.8222025091876822\n",
      "Epoch 6/100, Training Loss: 0.32993903722275386, Train_AUC: [0.5352449112371038, 0.6594076277225268, 0.7467980295566502, 0.7834743005855561, 0.7895209178878665, 0.8032809740682221] Validation Loss: 0.2970950346101414, val_AUC: 0.8297517968028677\n",
      "Epoch 7/100, Training Loss: 0.3265345946631648, Train_AUC: [0.5352449112371038, 0.6594076277225268, 0.7467980295566502, 0.7834743005855561, 0.7895209178878665, 0.8032809740682221, 0.8061560863772965] Validation Loss: 0.29434469613161957, val_AUC: 0.8313630356463966\n",
      "Epoch 8/100, Training Loss: 0.3264166777106849, Train_AUC: [0.5352449112371038, 0.6594076277225268, 0.7467980295566502, 0.7834743005855561, 0.7895209178878665, 0.8032809740682221, 0.8061560863772965, 0.8058689882372381] Validation Loss: 0.29830453341657465, val_AUC: 0.8361424407552909\n",
      "Epoch 9/100, Training Loss: 0.32366829636422073, Train_AUC: [0.5352449112371038, 0.6594076277225268, 0.7467980295566502, 0.7834743005855561, 0.7895209178878665, 0.8032809740682221, 0.8061560863772965, 0.8058689882372381, 0.8066032572213444] Validation Loss: 0.291163063862107, val_AUC: 0.8360338179119069\n",
      "Epoch 10/100, Training Loss: 0.32295001399787987, Train_AUC: [0.5352449112371038, 0.6594076277225268, 0.7467980295566502, 0.7834743005855561, 0.7895209178878665, 0.8032809740682221, 0.8061560863772965, 0.8058689882372381, 0.8066032572213444, 0.8109871838564096] Validation Loss: 0.2922740876674652, val_AUC: 0.837681264369897\n",
      "Epoch 11/100, Training Loss: 0.3198277052830566, Train_AUC: [0.5352449112371038, 0.6594076277225268, 0.7467980295566502, 0.7834743005855561, 0.7895209178878665, 0.8032809740682221, 0.8061560863772965, 0.8058689882372381, 0.8066032572213444, 0.8109871838564096, 0.8146079251479382] Validation Loss: 0.2922542081637816, val_AUC: 0.839491645092963\n",
      "Epoch 12/100, Training Loss: 0.3187633244828744, Train_AUC: [0.5352449112371038, 0.6594076277225268, 0.7467980295566502, 0.7834743005855561, 0.7895209178878665, 0.8032809740682221, 0.8061560863772965, 0.8058689882372381, 0.8066032572213444, 0.8109871838564096, 0.8146079251479382, 0.8172021356796895] Validation Loss: 0.2882243476130746, val_AUC: 0.8403244202255733\n",
      "Epoch 13/100, Training Loss: 0.31583618034016003, Train_AUC: [0.5352449112371038, 0.6594076277225268, 0.7467980295566502, 0.7834743005855561, 0.7895209178878665, 0.8032809740682221, 0.8061560863772965, 0.8058689882372381, 0.8066032572213444, 0.8109871838564096, 0.8146079251479382, 0.8172021356796895, 0.8179291755739381] Validation Loss: 0.2893014482476495, val_AUC: 0.837518330104821\n",
      "Epoch 14/100, Training Loss: 0.31642313809557393, Train_AUC: [0.5352449112371038, 0.6594076277225268, 0.7467980295566502, 0.7834743005855561, 0.7895209178878665, 0.8032809740682221, 0.8061560863772965, 0.8058689882372381, 0.8066032572213444, 0.8109871838564096, 0.8146079251479382, 0.8172021356796895, 0.8179291755739381, 0.818011793743739] Validation Loss: 0.287692284042185, val_AUC: 0.8427865380089433\n",
      "Epoch 15/100, Training Loss: 0.3149650865657763, Train_AUC: [0.5352449112371038, 0.6594076277225268, 0.7467980295566502, 0.7834743005855561, 0.7895209178878665, 0.8032809740682221, 0.8061560863772965, 0.8058689882372381, 0.8066032572213444, 0.8109871838564096, 0.8146079251479382, 0.8172021356796895, 0.8179291755739381, 0.818011793743739, 0.8200442007208435] Validation Loss: 0.2894405113025145, val_AUC: 0.8444701920813947\n",
      "Epoch 16/100, Training Loss: 0.3133013126525012, Train_AUC: [0.5352449112371038, 0.6594076277225268, 0.7467980295566502, 0.7834743005855561, 0.7895209178878665, 0.8032809740682221, 0.8061560863772965, 0.8058689882372381, 0.8066032572213444, 0.8109871838564096, 0.8146079251479382, 0.8172021356796895, 0.8179291755739381, 0.818011793743739, 0.8200442007208435, 0.8211079096570314] Validation Loss: 0.2880864901976152, val_AUC: 0.8421891123703314\n",
      "Epoch 17/100, Training Loss: 0.3110125945373015, Train_AUC: [0.5352449112371038, 0.6594076277225268, 0.7467980295566502, 0.7834743005855561, 0.7895209178878665, 0.8032809740682221, 0.8061560863772965, 0.8058689882372381, 0.8066032572213444, 0.8109871838564096, 0.8146079251479382, 0.8172021356796895, 0.8179291755739381, 0.818011793743739, 0.8200442007208435, 0.8211079096570314, 0.8250498290836613] Validation Loss: 0.29027011719616974, val_AUC: 0.8453210710212358\n",
      "Epoch 18/100, Training Loss: 0.3116211992773143, Train_AUC: [0.5352449112371038, 0.6594076277225268, 0.7467980295566502, 0.7834743005855561, 0.7895209178878665, 0.8032809740682221, 0.8061560863772965, 0.8058689882372381, 0.8066032572213444, 0.8109871838564096, 0.8146079251479382, 0.8172021356796895, 0.8179291755739381, 0.818011793743739, 0.8200442007208435, 0.8211079096570314, 0.8250498290836613, 0.8264615670601356] Validation Loss: 0.28538594327189704, val_AUC: 0.8436374169487842\n",
      "Epoch 19/100, Training Loss: 0.3065242218700322, Train_AUC: [0.5352449112371038, 0.6594076277225268, 0.7467980295566502, 0.7834743005855561, 0.7895209178878665, 0.8032809740682221, 0.8061560863772965, 0.8058689882372381, 0.8066032572213444, 0.8109871838564096, 0.8146079251479382, 0.8172021356796895, 0.8179291755739381, 0.818011793743739, 0.8200442007208435, 0.8211079096570314, 0.8250498290836613, 0.8264615670601356, 0.8299645774596978] Validation Loss: 0.290001399137757, val_AUC: 0.8404149392617267\n",
      "Epoch 20/100, Training Loss: 0.31054289876060054, Train_AUC: [0.5352449112371038, 0.6594076277225268, 0.7467980295566502, 0.7834743005855561, 0.7895209178878665, 0.8032809740682221, 0.8061560863772965, 0.8058689882372381, 0.8066032572213444, 0.8109871838564096, 0.8146079251479382, 0.8172021356796895, 0.8179291755739381, 0.818011793743739, 0.8200442007208435, 0.8211079096570314, 0.8250498290836613, 0.8264615670601356, 0.8299645774596978, 0.830275428323574] Validation Loss: 0.28530577502467414, val_AUC: 0.8469323098647645\n",
      "Epoch 21/100, Training Loss: 0.3056804172017358, Train_AUC: [0.5352449112371038, 0.6594076277225268, 0.7467980295566502, 0.7834743005855561, 0.7895209178878665, 0.8032809740682221, 0.8061560863772965, 0.8058689882372381, 0.8066032572213444, 0.8109871838564096, 0.8146079251479382, 0.8172021356796895, 0.8179291755739381, 0.818011793743739, 0.8200442007208435, 0.8211079096570314, 0.8250498290836613, 0.8264615670601356, 0.8299645774596978, 0.830275428323574, 0.8338197478080367] Validation Loss: 0.28566278652711347, val_AUC: 0.8439994930933976\n",
      "Epoch 22/100, Training Loss: 0.3075803325257518, Train_AUC: [0.5352449112371038, 0.6594076277225268, 0.7467980295566502, 0.7834743005855561, 0.7895209178878665, 0.8032809740682221, 0.8061560863772965, 0.8058689882372381, 0.8066032572213444, 0.8109871838564096, 0.8146079251479382, 0.8172021356796895, 0.8179291755739381, 0.818011793743739, 0.8200442007208435, 0.8211079096570314, 0.8250498290836613, 0.8264615670601356, 0.8299645774596978, 0.830275428323574, 0.8338197478080367, 0.8321395007797089] Validation Loss: 0.28957451202652673, val_AUC: 0.848561652515524\n",
      "Epoch 23/100, Training Loss: 0.30444536222652957, Train_AUC: [0.5352449112371038, 0.6594076277225268, 0.7467980295566502, 0.7834743005855561, 0.7895209178878665, 0.8032809740682221, 0.8061560863772965, 0.8058689882372381, 0.8066032572213444, 0.8109871838564096, 0.8146079251479382, 0.8172021356796895, 0.8179291755739381, 0.818011793743739, 0.8200442007208435, 0.8211079096570314, 0.8250498290836613, 0.8264615670601356, 0.8299645774596978, 0.830275428323574, 0.8338197478080367, 0.8321395007797089, 0.8350569549008067] Validation Loss: 0.28634758700024, val_AUC: 0.8475297355033764\n",
      "Epoch 24/100, Training Loss: 0.3043233386494897, Train_AUC: [0.5352449112371038, 0.6594076277225268, 0.7467980295566502, 0.7834743005855561, 0.7895209178878665, 0.8032809740682221, 0.8061560863772965, 0.8058689882372381, 0.8066032572213444, 0.8109871838564096, 0.8146079251479382, 0.8172021356796895, 0.8179291755739381, 0.818011793743739, 0.8200442007208435, 0.8211079096570314, 0.8250498290836613, 0.8264615670601356, 0.8299645774596978, 0.830275428323574, 0.8338197478080367, 0.8321395007797089, 0.8350569549008067, 0.8374518490979128] Validation Loss: 0.30255869166417554, val_AUC: 0.8505530713108966\n",
      "Epoch 25/100, Training Loss: 0.30316805839538574, Train_AUC: [0.5352449112371038, 0.6594076277225268, 0.7467980295566502, 0.7834743005855561, 0.7895209178878665, 0.8032809740682221, 0.8061560863772965, 0.8058689882372381, 0.8066032572213444, 0.8109871838564096, 0.8146079251479382, 0.8172021356796895, 0.8179291755739381, 0.818011793743739, 0.8200442007208435, 0.8211079096570314, 0.8250498290836613, 0.8264615670601356, 0.8299645774596978, 0.830275428323574, 0.8338197478080367, 0.8321395007797089, 0.8350569549008067, 0.8374518490979128, 0.8359451002261672] Validation Loss: 0.2872387699105523, val_AUC: 0.8469323098647645\n",
      "Early stopping at epoch 25\n"
     ]
    }
   ],
   "source": [
    "# Early Stoppingのパラメータ\n",
    "early_stopping_patience = 5  # 悪化が連続する回数\n",
    "best_val_loss = float(\"inf\")\n",
    "patience_counter = 0\n",
    "\n",
    "# モデル保存用のパス\n",
    "best_model_path = model_directory_name + \"/toy_best_model.pth\"\n",
    "\n",
    "# 訓練と検証の損失を格納するリスト\n",
    "train_losses = []\n",
    "val_losses = []\n",
    "train_aucs = []\n",
    "val_aucs = []\n",
    "\n",
    "# 学習ループ\n",
    "for epoch in range(NUM_EPOCHS):\n",
    "    model.train()\n",
    "    running_loss = 0.0\n",
    "    all_targets_train = []\n",
    "    all_outputs_train = []    \n",
    "    all_targets_val = []\n",
    "    all_outputs_val = []\n",
    "\n",
    "    for inputs, targets in train_loader:\n",
    "        optimizer.zero_grad()\n",
    "        outputs = model(inputs)\n",
    "        loss = criterion(outputs.squeeze(), targets)\n",
    "        loss.backward()\n",
    "        optimizer.step()\n",
    "        running_loss += loss.item()\n",
    "\n",
    "        # AUC計算のためにターゲットと出力を記録\n",
    "        all_targets_train.extend(targets.cpu().numpy())\n",
    "        all_outputs_train.extend(outputs.squeeze().detach().cpu().numpy())\n",
    "\n",
    "    train_losses.append(running_loss / len(train_loader))\n",
    "\n",
    "    # AUCを計算\n",
    "    auc_train = roc_auc_score(all_targets_train, all_outputs_train)\n",
    "    train_aucs.append(auc_train)\n",
    "\n",
    "    # 検証フェーズ\n",
    "    model.eval()\n",
    "    val_loss = 0.0\n",
    "    with torch.no_grad():\n",
    "        for inputs, targets in val_loader:\n",
    "            outputs = model(inputs)\n",
    "            loss = criterion(outputs.squeeze(), targets)\n",
    "            val_loss += loss.item()\n",
    "    \n",
    "            # AUC計算のためにターゲットと出力を記録\n",
    "            all_targets_val.extend(targets.cpu().numpy())\n",
    "            all_outputs_val.extend(outputs.squeeze().detach().cpu().numpy())\n",
    "\n",
    "    val_losses.append(val_loss / len(val_loader))\n",
    "\n",
    "\n",
    "    # AUCを計算\n",
    "    auc_val = roc_auc_score(all_targets_val, all_outputs_val)\n",
    "    val_aucs.append(auc_val)\n",
    "\n",
    "    print(f\"Epoch {epoch+1}/{NUM_EPOCHS}, Training Loss: {train_losses[-1]}, Train_AUC: {train_aucs} Validation Loss: {val_losses[-1]}, val_AUC: {auc_val}\")\n",
    "\n",
    "    # Early Stoppingのチェックとモデル保存\n",
    "    if val_losses[-1] < best_val_loss:\n",
    "        best_val_loss = val_losses[-1]\n",
    "        patience_counter = 0  # 改善があったのでリセット\n",
    "        torch.save(model.state_dict(), best_model_path)  # 最善のモデルを保存\n",
    "    else:\n",
    "        patience_counter += 1  # 改善がないのでカウントアップ\n",
    "\n",
    "    if patience_counter >= early_stopping_patience:\n",
    "        print(f\"Early stopping at epoch {epoch+1}\")\n",
    "        model.load_state_dict(torch.load(best_model_path))  # 最善のモデルをロード\n",
    "        break"
   ]
  },
  {
   "cell_type": "code",
   "execution_count": 15,
   "metadata": {},
   "outputs": [
    {
     "data": {
      "image/png": "[encoded data removed]",
      "text/plain": [
       "<Figure size 1000x500 with 1 Axes>"
      ]
     },
     "metadata": {},
     "output_type": "display_data"
    },
    {
     "data": {
      "image/png": "[encoded data removed]",
      "text/plain": [
       "<Figure size 600x600 with 1 Axes>"
      ]
     },
     "metadata": {},
     "output_type": "display_data"
    }
   ],
   "source": [
    "# 損失のグラフ化\n",
    "plt.figure(figsize=(10, 5))\n",
    "plt.plot(range(len(train_losses)), train_losses, label='Training Loss')\n",
    "plt.plot(range(len(val_losses)), val_losses, label='Validation Loss')\n",
    "plt.xlabel('Epochs')\n",
    "plt.ylabel('Loss')\n",
    "plt.legend()\n",
    "plt.show()\n",
    "\n",
    "# ROC曲線の描画\n",
    "fpr_train, tpr_train, _ = roc_curve(all_targets_train, all_outputs_train)\n",
    "fpr_val, tpr_val, _ = roc_curve(all_targets_val, all_outputs_val)\n",
    "plt.figure(figsize=(6, 6))\n",
    "plt.plot(fpr_train, tpr_train, marker='.', label=f'ROC curve (AUC = {auc_train:.2f})')\n",
    "plt.plot(fpr_val, tpr_val, marker='.', label=f'ROC curve (AUC = {auc_val:.2f})')\n",
    "plt.xlabel('False Positive Rate')\n",
    "plt.ylabel('True Positive Rate')\n",
    "plt.title('ROC Curve')\n",
    "plt.legend()\n",
    "plt.show()"
   ]
  },
  {
   "cell_type": "code",
   "execution_count": 16,
   "metadata": {},
   "outputs": [
    {
     "data": {
      "text/html": [
       "<div>\n",
       "<style scoped>\n",
       "    .dataframe tbody tr th:only-of-type {\n",
       "        vertical-align: middle;\n",
       "    }\n",
       "\n",
       "    .dataframe tbody tr th {\n",
       "        vertical-align: top;\n",
       "    }\n",
       "\n",
       "    .dataframe thead th {\n",
       "        text-align: right;\n",
       "    }\n",
       "</style>\n",
       "<table border=\"1\" class=\"dataframe\">\n",
       "  <thead>\n",
       "    <tr style=\"text-align: right;\">\n",
       "      <th></th>\n",
       "      <th>id</th>\n",
       "      <th>CityTier</th>\n",
       "      <th>DurationOfPitch</th>\n",
       "      <th>Occupation</th>\n",
       "      <th>Gender(is_male)</th>\n",
       "      <th>NumberOfPersonVisiting</th>\n",
       "      <th>NumberOfFollowups</th>\n",
       "      <th>ProductPitched</th>\n",
       "      <th>PreferredPropertyStar</th>\n",
       "      <th>NumberOfTrips</th>\n",
       "      <th>...</th>\n",
       "      <th>customer_info_concat_svd_0</th>\n",
       "      <th>customer_info_concat_svd_1</th>\n",
       "      <th>customer_info_concat_svd_2</th>\n",
       "      <th>TypeofContact_Company Invited</th>\n",
       "      <th>TypeofContact_Self Enquiry</th>\n",
       "      <th>TypeofContact_unknown</th>\n",
       "      <th>marriage_history_未婚</th>\n",
       "      <th>marriage_history_独身</th>\n",
       "      <th>marriage_history_結婚済み</th>\n",
       "      <th>marriage_history_離婚済み</th>\n",
       "    </tr>\n",
       "  </thead>\n",
       "  <tbody>\n",
       "    <tr>\n",
       "      <th>0</th>\n",
       "      <td>3489.0</td>\n",
       "      <td>0.5</td>\n",
       "      <td>0.361407</td>\n",
       "      <td>0.5</td>\n",
       "      <td>1.0</td>\n",
       "      <td>0.0</td>\n",
       "      <td>0.666667</td>\n",
       "      <td>1.00</td>\n",
       "      <td>0.0</td>\n",
       "      <td>0.875</td>\n",
       "      <td>...</td>\n",
       "      <td>0.069671</td>\n",
       "      <td>0.146588</td>\n",
       "      <td>0.986741</td>\n",
       "      <td>0.0</td>\n",
       "      <td>1.0</td>\n",
       "      <td>0.0</td>\n",
       "      <td>0.0</td>\n",
       "      <td>0.0</td>\n",
       "      <td>1.0</td>\n",
       "      <td>0.0</td>\n",
       "    </tr>\n",
       "    <tr>\n",
       "      <th>1</th>\n",
       "      <td>3490.0</td>\n",
       "      <td>0.5</td>\n",
       "      <td>0.333642</td>\n",
       "      <td>0.5</td>\n",
       "      <td>0.0</td>\n",
       "      <td>0.0</td>\n",
       "      <td>0.666667</td>\n",
       "      <td>0.25</td>\n",
       "      <td>0.0</td>\n",
       "      <td>0.500</td>\n",
       "      <td>...</td>\n",
       "      <td>-0.017377</td>\n",
       "      <td>0.044482</td>\n",
       "      <td>0.998859</td>\n",
       "      <td>0.0</td>\n",
       "      <td>1.0</td>\n",
       "      <td>0.0</td>\n",
       "      <td>0.0</td>\n",
       "      <td>0.0</td>\n",
       "      <td>1.0</td>\n",
       "      <td>0.0</td>\n",
       "    </tr>\n",
       "    <tr>\n",
       "      <th>2</th>\n",
       "      <td>3491.0</td>\n",
       "      <td>0.0</td>\n",
       "      <td>0.250347</td>\n",
       "      <td>0.0</td>\n",
       "      <td>0.0</td>\n",
       "      <td>0.0</td>\n",
       "      <td>0.666667</td>\n",
       "      <td>0.00</td>\n",
       "      <td>0.0</td>\n",
       "      <td>0.125</td>\n",
       "      <td>...</td>\n",
       "      <td>-0.000229</td>\n",
       "      <td>-0.112947</td>\n",
       "      <td>-0.993601</td>\n",
       "      <td>0.0</td>\n",
       "      <td>1.0</td>\n",
       "      <td>0.0</td>\n",
       "      <td>0.0</td>\n",
       "      <td>0.0</td>\n",
       "      <td>0.0</td>\n",
       "      <td>1.0</td>\n",
       "    </tr>\n",
       "    <tr>\n",
       "      <th>3</th>\n",
       "      <td>3492.0</td>\n",
       "      <td>0.5</td>\n",
       "      <td>0.194817</td>\n",
       "      <td>0.0</td>\n",
       "      <td>1.0</td>\n",
       "      <td>0.0</td>\n",
       "      <td>0.666667</td>\n",
       "      <td>0.00</td>\n",
       "      <td>0.5</td>\n",
       "      <td>0.125</td>\n",
       "      <td>...</td>\n",
       "      <td>0.018846</td>\n",
       "      <td>0.052346</td>\n",
       "      <td>-0.998451</td>\n",
       "      <td>1.0</td>\n",
       "      <td>0.0</td>\n",
       "      <td>0.0</td>\n",
       "      <td>0.0</td>\n",
       "      <td>0.0</td>\n",
       "      <td>0.0</td>\n",
       "      <td>1.0</td>\n",
       "    </tr>\n",
       "    <tr>\n",
       "      <th>4</th>\n",
       "      <td>3493.0</td>\n",
       "      <td>0.0</td>\n",
       "      <td>0.194817</td>\n",
       "      <td>0.0</td>\n",
       "      <td>1.0</td>\n",
       "      <td>0.0</td>\n",
       "      <td>0.666667</td>\n",
       "      <td>0.00</td>\n",
       "      <td>0.0</td>\n",
       "      <td>0.125</td>\n",
       "      <td>...</td>\n",
       "      <td>-0.018256</td>\n",
       "      <td>0.078343</td>\n",
       "      <td>0.996759</td>\n",
       "      <td>1.0</td>\n",
       "      <td>0.0</td>\n",
       "      <td>0.0</td>\n",
       "      <td>0.0</td>\n",
       "      <td>1.0</td>\n",
       "      <td>0.0</td>\n",
       "      <td>0.0</td>\n",
       "    </tr>\n",
       "  </tbody>\n",
       "</table>\n",
       "<p>5 rows × 27 columns</p>\n",
       "</div>"
      ],
      "text/plain": [
       "       id  CityTier  DurationOfPitch  Occupation  Gender(is_male)  \\\n",
       "0  3489.0       0.5         0.361407         0.5              1.0   \n",
       "1  3490.0       0.5         0.333642         0.5              0.0   \n",
       "2  3491.0       0.0         0.250347         0.0              0.0   \n",
       "3  3492.0       0.5         0.194817         0.0              1.0   \n",
       "4  3493.0       0.0         0.194817         0.0              1.0   \n",
       "\n",
       "   NumberOfPersonVisiting  NumberOfFollowups  ProductPitched  \\\n",
       "0                     0.0           0.666667            1.00   \n",
       "1                     0.0           0.666667            0.25   \n",
       "2                     0.0           0.666667            0.00   \n",
       "3                     0.0           0.666667            0.00   \n",
       "4                     0.0           0.666667            0.00   \n",
       "\n",
       "   PreferredPropertyStar  NumberOfTrips  ...  customer_info_concat_svd_0  \\\n",
       "0                    0.0          0.875  ...                    0.069671   \n",
       "1                    0.0          0.500  ...                   -0.017377   \n",
       "2                    0.0          0.125  ...                   -0.000229   \n",
       "3                    0.5          0.125  ...                    0.018846   \n",
       "4                    0.0          0.125  ...                   -0.018256   \n",
       "\n",
       "   customer_info_concat_svd_1  customer_info_concat_svd_2  \\\n",
       "0                    0.146588                    0.986741   \n",
       "1                    0.044482                    0.998859   \n",
       "2                   -0.112947                   -0.993601   \n",
       "3                    0.052346                   -0.998451   \n",
       "4                    0.078343                    0.996759   \n",
       "\n",
       "   TypeofContact_Company Invited  TypeofContact_Self Enquiry  \\\n",
       "0                            0.0                         1.0   \n",
       "1                            0.0                         1.0   \n",
       "2                            0.0                         1.0   \n",
       "3                            1.0                         0.0   \n",
       "4                            1.0                         0.0   \n",
       "\n",
       "   TypeofContact_unknown  marriage_history_未婚  marriage_history_独身  \\\n",
       "0                    0.0                  0.0                  0.0   \n",
       "1                    0.0                  0.0                  0.0   \n",
       "2                    0.0                  0.0                  0.0   \n",
       "3                    0.0                  0.0                  0.0   \n",
       "4                    0.0                  0.0                  1.0   \n",
       "\n",
       "   marriage_history_結婚済み  marriage_history_離婚済み  \n",
       "0                    1.0                    0.0  \n",
       "1                    1.0                    0.0  \n",
       "2                    0.0                    1.0  \n",
       "3                    0.0                    1.0  \n",
       "4                    0.0                    0.0  \n",
       "\n",
       "[5 rows x 27 columns]"
      ]
     },
     "execution_count": 16,
     "metadata": {},
     "output_type": "execute_result"
    }
   ],
   "source": [
    "test_df.head()"
   ]
  },
  {
   "cell_type": "code",
   "execution_count": 17,
   "metadata": {},
   "outputs": [
    {
     "ename": "FileNotFoundError",
     "evalue": "[Errno 2] No such file or directory: '../models/toy_best_model.pth'",
     "output_type": "error",
     "traceback": [
      "\u001b[0;31m---------------------------------------------------------------------------\u001b[0m",
      "\u001b[0;31mFileNotFoundError\u001b[0m                         Traceback (most recent call last)",
      "Cell \u001b[0;32mIn[17], line 6\u001b[0m\n\u001b[1;32m      4\u001b[0m \u001b[38;5;66;03m# モデルのインスタンス化と最善モデルの読み込み\u001b[39;00m\n\u001b[1;32m      5\u001b[0m model \u001b[38;5;241m=\u001b[39m SimpleNN(input_dim\u001b[38;5;241m=\u001b[39mX_test\u001b[38;5;241m.\u001b[39mshape[\u001b[38;5;241m1\u001b[39m])\n\u001b[0;32m----> 6\u001b[0m model\u001b[38;5;241m.\u001b[39mload_state_dict(\u001b[43mtorch\u001b[49m\u001b[38;5;241;43m.\u001b[39;49m\u001b[43mload\u001b[49m\u001b[43m(\u001b[49m\u001b[38;5;124;43m\"\u001b[39;49m\u001b[38;5;124;43m../models/toy_best_model.pth\u001b[39;49m\u001b[38;5;124;43m\"\u001b[39;49m\u001b[43m)\u001b[49m)\n\u001b[1;32m      7\u001b[0m model\u001b[38;5;241m.\u001b[39meval()\n\u001b[1;32m      9\u001b[0m \u001b[38;5;66;03m# テストデータに対して予測を行う\u001b[39;00m\n",
      "File \u001b[0;32m~/Desktop/GitHub/signate_cup_2024/.venv/lib/python3.10/site-packages/torch/serialization.py:997\u001b[0m, in \u001b[0;36mload\u001b[0;34m(f, map_location, pickle_module, weights_only, mmap, **pickle_load_args)\u001b[0m\n\u001b[1;32m    994\u001b[0m \u001b[38;5;28;01mif\u001b[39;00m \u001b[38;5;124m'\u001b[39m\u001b[38;5;124mencoding\u001b[39m\u001b[38;5;124m'\u001b[39m \u001b[38;5;129;01mnot\u001b[39;00m \u001b[38;5;129;01min\u001b[39;00m pickle_load_args\u001b[38;5;241m.\u001b[39mkeys():\n\u001b[1;32m    995\u001b[0m     pickle_load_args[\u001b[38;5;124m'\u001b[39m\u001b[38;5;124mencoding\u001b[39m\u001b[38;5;124m'\u001b[39m] \u001b[38;5;241m=\u001b[39m \u001b[38;5;124m'\u001b[39m\u001b[38;5;124mutf-8\u001b[39m\u001b[38;5;124m'\u001b[39m\n\u001b[0;32m--> 997\u001b[0m \u001b[38;5;28;01mwith\u001b[39;00m \u001b[43m_open_file_like\u001b[49m\u001b[43m(\u001b[49m\u001b[43mf\u001b[49m\u001b[43m,\u001b[49m\u001b[43m \u001b[49m\u001b[38;5;124;43m'\u001b[39;49m\u001b[38;5;124;43mrb\u001b[39;49m\u001b[38;5;124;43m'\u001b[39;49m\u001b[43m)\u001b[49m \u001b[38;5;28;01mas\u001b[39;00m opened_file:\n\u001b[1;32m    998\u001b[0m     \u001b[38;5;28;01mif\u001b[39;00m _is_zipfile(opened_file):\n\u001b[1;32m    999\u001b[0m         \u001b[38;5;66;03m# The zipfile reader is going to advance the current file position.\u001b[39;00m\n\u001b[1;32m   1000\u001b[0m         \u001b[38;5;66;03m# If we want to actually tail call to torch.jit.load, we need to\u001b[39;00m\n\u001b[1;32m   1001\u001b[0m         \u001b[38;5;66;03m# reset back to the original position.\u001b[39;00m\n\u001b[1;32m   1002\u001b[0m         orig_position \u001b[38;5;241m=\u001b[39m opened_file\u001b[38;5;241m.\u001b[39mtell()\n",
      "File \u001b[0;32m~/Desktop/GitHub/signate_cup_2024/.venv/lib/python3.10/site-packages/torch/serialization.py:444\u001b[0m, in \u001b[0;36m_open_file_like\u001b[0;34m(name_or_buffer, mode)\u001b[0m\n\u001b[1;32m    442\u001b[0m \u001b[38;5;28;01mdef\u001b[39;00m \u001b[38;5;21m_open_file_like\u001b[39m(name_or_buffer, mode):\n\u001b[1;32m    443\u001b[0m     \u001b[38;5;28;01mif\u001b[39;00m _is_path(name_or_buffer):\n\u001b[0;32m--> 444\u001b[0m         \u001b[38;5;28;01mreturn\u001b[39;00m \u001b[43m_open_file\u001b[49m\u001b[43m(\u001b[49m\u001b[43mname_or_buffer\u001b[49m\u001b[43m,\u001b[49m\u001b[43m \u001b[49m\u001b[43mmode\u001b[49m\u001b[43m)\u001b[49m\n\u001b[1;32m    445\u001b[0m     \u001b[38;5;28;01melse\u001b[39;00m:\n\u001b[1;32m    446\u001b[0m         \u001b[38;5;28;01mif\u001b[39;00m \u001b[38;5;124m'\u001b[39m\u001b[38;5;124mw\u001b[39m\u001b[38;5;124m'\u001b[39m \u001b[38;5;129;01min\u001b[39;00m mode:\n",
      "File \u001b[0;32m~/Desktop/GitHub/signate_cup_2024/.venv/lib/python3.10/site-packages/torch/serialization.py:425\u001b[0m, in \u001b[0;36m_open_file.__init__\u001b[0;34m(self, name, mode)\u001b[0m\n\u001b[1;32m    424\u001b[0m \u001b[38;5;28;01mdef\u001b[39;00m \u001b[38;5;21m__init__\u001b[39m(\u001b[38;5;28mself\u001b[39m, name, mode):\n\u001b[0;32m--> 425\u001b[0m     \u001b[38;5;28msuper\u001b[39m()\u001b[38;5;241m.\u001b[39m\u001b[38;5;21m__init__\u001b[39m(\u001b[38;5;28;43mopen\u001b[39;49m\u001b[43m(\u001b[49m\u001b[43mname\u001b[49m\u001b[43m,\u001b[49m\u001b[43m \u001b[49m\u001b[43mmode\u001b[49m\u001b[43m)\u001b[49m)\n",
      "\u001b[0;31mFileNotFoundError\u001b[0m: [Errno 2] No such file or directory: '../models/toy_best_model.pth'"
     ]
    }
   ],
   "source": [
    "# 特徴量として使用するカラムを定義 (NUMERIC_COLUMNSに基づく)\n",
    "X_test = test_df.drop(columns=[\"id\"])  # \"id\" カラムを除外して特徴量に\n",
    "\n",
    "# モデルのインスタンス化と最善モデルの読み込み\n",
    "model = SimpleNN(input_dim=X_test.shape[1])\n",
    "model.load_state_dict(torch.load(\"../models/toy_best_model.pth\"))\n",
    "model.eval()\n",
    "\n",
    "# テストデータに対して予測を行う\n",
    "with torch.no_grad():\n",
    "    test_predictions = model(torch.tensor(X_test.values, dtype=torch.float32))\n",
    "    test_predictions = test_predictions.squeeze().numpy()\n",
    "\n",
    "# 結果をデータフレームに変換\n",
    "submission_df = pd.DataFrame({\n",
    "    \"id\": test_df[\"id\"].astype(int),  # \"id\" カラムを使用\n",
    "    \"prediction\": test_predictions\n",
    "})\n",
    "\n",
    "# CSVファイルに保存\n",
    "submission_df.to_csv(data_directory_name + \"/submission.csv\", index=False, header=None)"
   ]
  },
  {
   "cell_type": "code",
   "execution_count": null,
   "metadata": {},
   "outputs": [],
   "source": []
  }
 ],
 "metadata": {
  "kernelspec": {
   "display_name": ".venv",
   "language": "python",
   "name": "python3"
  },
  "language_info": {
   "codemirror_mode": {
    "name": "ipython",
    "version": 3
   },
   "file_extension": ".py",
   "mimetype": "text/x-python",
   "name": "python",
   "nbconvert_exporter": "python",
   "pygments_lexer": "ipython3",
   "version": "3.10.2"
  }
 },
 "nbformat": 4,
 "nbformat_minor": 2
}
