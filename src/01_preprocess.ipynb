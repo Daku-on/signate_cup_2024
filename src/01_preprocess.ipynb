{
 "cells": [
  {
   "cell_type": "markdown",
   "metadata": {},
   "source": [
    "# 前処理"
   ]
  },
  {
   "cell_type": "code",
   "execution_count": 2,
   "metadata": {},
   "outputs": [],
   "source": [
    "import re\n",
    "import pandas as pd\n",
    "import numpy as np"
   ]
  },
  {
   "cell_type": "markdown",
   "metadata": {},
   "source": [
    "## データの読み込み"
   ]
  },
  {
   "cell_type": "code",
   "execution_count": 3,
   "metadata": {},
   "outputs": [],
   "source": [
    "# ローカルファイルを読み込む\n",
    "train_df = pd.read_csv(\"../data/train.csv\")\n",
    "test_df = pd.read_csv(\"../data/test.csv\")\n",
    "# google colaboratory で実行する場合は以下を有効にする\n",
    "# from google.colab import drive\n",
    "# drive.mount('/content/drive')\n",
    "# train_df = pd.read_csv(\"/content/drive/mydrive/signate_cup_2024_data/train.csv\")\n",
    "# test_df = pd.read_csv(\"/content/drive/mydrive/signate_cup_2024_data/test.csv\")"
   ]
  },
  {
   "cell_type": "code",
   "execution_count": 8,
   "metadata": {},
   "outputs": [
    {
     "data": {
      "text/plain": [
       "Index(['id', 'Age', 'TypeofContact', 'CityTier', 'DurationOfPitch',\n",
       "       'Occupation', 'Gender', 'NumberOfPersonVisiting', 'NumberOfFollowups',\n",
       "       'ProductPitched', 'PreferredPropertyStar', 'NumberOfTrips', 'Passport',\n",
       "       'PitchSatisfactionScore', 'Designation', 'MonthlyIncome',\n",
       "       'customer_info', 'ProdTaken'],\n",
       "      dtype='object')"
      ]
     },
     "execution_count": 8,
     "metadata": {},
     "output_type": "execute_result"
    }
   ],
   "source": [
    "train_df.columns"
   ]
  },
  {
   "cell_type": "code",
   "execution_count": 11,
   "metadata": {},
   "outputs": [
    {
     "name": "stdout",
     "output_type": "stream",
     "text": [
      "Designateion NULL count: 0\n",
      "MonthlyIncome NULL count: 56\n",
      "customer_info NULL count: 0\n"
     ]
    }
   ],
   "source": [
    "# 3カラムにNULL値が存在するかどうか確認\n",
    "print(\"Designateion NULL count: {}\".format(train_df[\"Designation\"].isnull().sum()))\n",
    "print(\"MonthlyIncome NULL count: {}\".format(train_df[\"MonthlyIncome\"].isnull().sum()))\n",
    "print(\"customer_info NULL count: {}\".format(train_df[\"customer_info\"].isnull().sum()))"
   ]
  },
  {
   "cell_type": "markdown",
   "metadata": {},
   "source": [
    "## Designationカラム"
   ]
  },
  {
   "cell_type": "code",
   "execution_count": 31,
   "metadata": {},
   "outputs": [],
   "source": [
    "def convert_fullwidth_to_halfwidth_and_extract_invalid(\n",
    "    df: pd.DataFrame,\n",
    "    column_name: str,\n",
    ") -> pd.DataFrame:\n",
    "    \"\"\"\n",
    "    指定されたカラムに対して次の処理を行う:\n",
    "    1. 全角英字を半角英字に変換\n",
    "    2. それでもなおAからz以外の文字が含まれるユニークな値をリストとして返す\n",
    "    \n",
    "    Args:\n",
    "        df (pd.DataFrame): 対象のデータフレーム\n",
    "        column_name (str): 操作を行うカラムの名前\n",
    "    \n",
    "    Returns:\n",
    "        pd.DataFrame: 修正後のデータフレーム\n",
    "        list: 条件に合わないレコードのユニークな値\n",
    "    \"\"\"\n",
    "    # 全角英字を半角英字に変換\n",
    "    def convert_fullwidth_to_halfwidth(text: str) -> str:\n",
    "        \"\"\"\n",
    "        全角英字を半角英字に変換するヘルパー関数\n",
    "\n",
    "        Args:\n",
    "            text (str): 入力文字列\n",
    "\n",
    "        Returns:\n",
    "            str: 半角に変換された文字列\n",
    "        \"\"\"\n",
    "        return \"\".join(\n",
    "            chr(ord(char) - 65248) if \"Ａ\" <= char <= \"Ｚ\" or \"ａ\" <= char <= \"ｚ\" else char\n",
    "            for char in text\n",
    "        )\n",
    "\n",
    "    # 対象カラムの全角英字を半角英字に変換\n",
    "    df[column_name] = df[column_name].apply(lambda x: convert_fullwidth_to_halfwidth(x) if pd.notna(x) else x)\n",
    "\n",
    "    # 半角スペースをアンダースコアに置換\n",
    "    df[column_name] = df[column_name].str.replace(\" \", \"_\", regex=False)\n",
    "    \n",
    "    replace_dict = {\n",
    "        \"𝙧\": \"r\",\n",
    "        \"α\": \"a\",\n",
    "        \"Տ\": \"S\",\n",
    "        \"ѵ\": \"v\",\n",
    "        \"×\": \"x\",\n",
    "        \"е\": \"e\",\n",
    "        \"Α\": \"A\",\n",
    "        \"А\": \"A\",\n",
    "        \"Μ\": \"M\",\n",
    "        \"Е\": \"E\",\n",
    "        \"Ѕ\": \"S\",\n",
    "    }\n",
    "    df = df.replace(\n",
    "        {column_name: replace_dict},\n",
    "        regex=True\n",
    "    )\n",
    "    \n",
    "    # Aからz以外の文字を含む行のindexを取得\n",
    "    invalid_indices = df[~df[column_name].str.match(r\"^[A-Za-z_]+$\", na=False)].index\n",
    "    \n",
    "    if len(invalid_indices) == 0:\n",
    "        df[column_name] = df[column_name].apply(lambda x: x.lower() if pd.notna(x) else x)\n",
    "        return df, []\n",
    "\n",
    "    # 条件に合わないレコードのユニークな値をリストとして取得\n",
    "    unique_invalid_values = df.loc[invalid_indices, column_name].unique().tolist()\n",
    "\n",
    "    return df, unique_invalid_values"
   ]
  },
  {
   "cell_type": "code",
   "execution_count": 33,
   "metadata": {},
   "outputs": [
    {
     "data": {
      "text/plain": [
       "array(['executive', 'senior_manager', 'avp', 'manager', 'vp'],\n",
       "      dtype=object)"
      ]
     },
     "execution_count": 33,
     "metadata": {},
     "output_type": "execute_result"
    }
   ],
   "source": [
    "# Designationカラムに対して処理を行う\n",
    "train_df, unique_invalid_values = convert_fullwidth_to_halfwidth_and_extract_invalid(train_df, \"Designation\")\n",
    "train_df[\"Designation\"].unique()"
   ]
  },
  {
   "cell_type": "markdown",
   "metadata": {},
   "source": [
    "## MonthlyIncomeカラム"
   ]
  },
  {
   "cell_type": "code",
   "execution_count": 10,
   "metadata": {},
   "outputs": [],
   "source": [
    "def extract_and_convert_to_numeric(\n",
    "    df: pd.DataFrame, \n",
    "    column_name: str, \n",
    "    new_column_name: str\n",
    ") -> pd.DataFrame:\n",
    "    \"\"\"\n",
    "    指定されたカラムから数字と「万」を抽出し、1万倍して新しいカラムに保存する。\n",
    "    正規表現にマッチしない場合、そのインデックスと値を記録する。\n",
    "\n",
    "    Args:\n",
    "        df (pd.DataFrame): 入力データフレーム\n",
    "        column_name (str): 元のカラム名\n",
    "        new_column_name (str): 結果を保存する新しいカラム名\n",
    "\n",
    "    Returns:\n",
    "        pd.DataFrame: 処理結果が保存された新しいカラムが追加されたデータフレーム\n",
    "        list: 正規表現にマッチしなかったユニークな値のリスト\n",
    "    \"\"\"\n",
    "    unmatched_values = []\n",
    "    \n",
    "    def convert_to_number(text: str, index: int) -> int:\n",
    "        # 正規表現で「万」や数字を含む部分を抽出\n",
    "        match = re.search(r\"(\\d+(\\.\\d+)?)(万)?\", text)\n",
    "        if not match:\n",
    "            unmatched_values.append((index, text))\n",
    "            return None\n",
    "        # print(match)\n",
    "        number_str, _, unit = match.groups()\n",
    "        number = float(number_str)\n",
    "        if unit == \"万\":\n",
    "            number *= 10000\n",
    "        return int(number)\n",
    "\n",
    "    # 各レコードに対して処理を行い、新しいカラムに保存\n",
    "    df[new_column_name] = [\n",
    "        convert_to_number(str(value), idx) \n",
    "        for idx, value in enumerate(df[column_name])\n",
    "    ]\n",
    "    df[new_column_name] = df[new_column_name].astype(np.float16)\n",
    "    \n",
    "    # 正規表現にマッチしなかったユニークな値をリストにして返す\n",
    "    unique_unmatched_values = list({value for _, value in unmatched_values})\n",
    "    \n",
    "    return df, unique_unmatched_values\n",
    "\n",
    "# # 使用例\n",
    "# data = {\n",
    "#     \"original_column\": [\"月収30.0万円\", \"年収1.5万\", \"ボーナス3000\", \"基本給20万\", \"不正な値\", \"another invalid value\"],\n",
    "# }\n",
    "# df = pd.DataFrame(data)\n",
    "# \n",
    "# # 関数の適用\n",
    "# df, unmatched = extract_and_convert_to_numeric(df, \"original_column\", \"numeric_value\")\n",
    "# print(df)\n",
    "# print(\"Unmatched values:\", unmatched)\n",
    "# "
   ]
  },
  {
   "cell_type": "code",
   "execution_count": 11,
   "metadata": {},
   "outputs": [
    {
     "name": "stderr",
     "output_type": "stream",
     "text": [
      "/Users/takako/Desktop/GitHub/signate_cup_2024/.venv/lib/python3.10/site-packages/pandas/core/dtypes/astype.py:133: RuntimeWarning: overflow encountered in cast\n",
      "  return arr.astype(dtype, copy=True)\n"
     ]
    },
    {
     "data": {
      "text/plain": [
       "['nan']"
      ]
     },
     "execution_count": 11,
     "metadata": {},
     "output_type": "execute_result"
    }
   ],
   "source": [
    "# ローカルファイルを読み込む\n",
    "train_df = pd.read_csv(\"../data/train.csv\")\n",
    "test_df = pd.read_csv(\"../data/test.csv\")\n",
    "train_df, unique_invalid_values = extract_and_convert_to_numeric(train_df, \"MonthlyIncome\", \"MonthlyIncomeNumeric\")"
   ]
  },
  {
   "cell_type": "markdown",
   "metadata": {},
   "source": [
    "## Customer_infoカラム"
   ]
  },
  {
   "cell_type": "code",
   "execution_count": 46,
   "metadata": {},
   "outputs": [
    {
     "ename": "SyntaxError",
     "evalue": "invalid syntax. Perhaps you forgot a comma? (2453540088.py, line 42)",
     "output_type": "error",
     "traceback": [
      "\u001b[0;36m  Cell \u001b[0;32mIn[46], line 42\u001b[0;36m\u001b[0m\n\u001b[0;31m    raise ValueError(f\"\"{text}\" is not found in the replacement dictionary.\")\u001b[0m\n\u001b[0m                     ^\u001b[0m\n\u001b[0;31mSyntaxError\u001b[0m\u001b[0;31m:\u001b[0m invalid syntax. Perhaps you forgot a comma?\n"
     ]
    }
   ],
   "source": [
    "def customer_info_preprocess(\n",
    "    df: pd.DataFrame,  # 入力のデータフレーム\n",
    "    column_name: str,  # 処理対象のカラム名\n",
    ") -> pd.DataFrame:\n",
    "    \"\"\"\n",
    "    各レコードに対して、指定されたカラムの文字列を処理し、\n",
    "    各単語を条件に基づいて新しいカラムに分類する。\n",
    "    \n",
    "    Args:\n",
    "        df (pd.DataFrame): 処理対象のデータフレーム\n",
    "        column_name (str): 対象カラム名\n",
    "        \n",
    "    Returns:\n",
    "        pd.DataFrame: 処理結果を含むデータフレーム\n",
    "    \"\"\"\n",
    "    # 各レコードを処理\n",
    "    for index, row in df.iterrows():\n",
    "        # 句読点やコロン、改行などを半角スペースに変換\n",
    "        cleaned_text = re.sub(r\"[、。・：；,.;:?!/／\\n]\", \" \", str(row[column_name]))\n",
    "        \n",
    "        # 単語に分割\n",
    "        words = cleaned_text.split()\n",
    "\n",
    "        # 各単語に対して処理を実施\n",
    "        marriage_history = \" \".join([word for word in words if \"婚\" in word or \"独\" in word])\n",
    "        car = \" \".join([word for word in words if \"車\" in word])\n",
    "        children = \" \".join([word for word in words if \"婚\" not in word and \"独\" not in word and \"車\" not in word])\n",
    "\n",
    "        # 各レコードに新しいカラムを追加\n",
    "        df.at[index, \"marriage_history\"] = marriage_history\n",
    "        df.at[index, \"car\"] = car\n",
    "        df.at[index, \"children\"] = children\n",
    "    \n",
    "    # 各カラムの表記揺れを修正\n",
    "    def dict_replace_function(\n",
    "        text: str,\n",
    "        replace_dict: dict\n",
    "    ) -> str:\n",
    "        if text in replace_dict:\n",
    "            return str(replace_dict[text])\n",
    "        else:\n",
    "            raise ValueError(f\"\"{text}\" is not found in the replacement dictionary.\")\n",
    "\n",
    "    # car, childrenカラムの各レコードに対して置き換え処理を実施\n",
    "    # car辞書の作成\n",
    "    car_replace_dict = {\n",
    "    \"車未所持\": 0,\n",
    "    \"自動車未所有\": 0,\n",
    "    \"車保有なし\": 0,\n",
    "    \"乗用車なし\": 0,\n",
    "    \"自家用車なし\": 0,\n",
    "    \"車なし\": 0,\n",
    "    \"車あり\": 1,\n",
    "    \"車所持\": 1,\n",
    "    \"自家用車あり\": 1,\n",
    "    \"車保有\": 1,\n",
    "    \"乗用車所持\": 1,\n",
    "    \"自動車所有\": 1,\n",
    "    }\n",
    "    # children辞書の作成\n",
    "    children_replace_dict = {\n",
    "        \"子供なし\": 0,\n",
    "        \"子供無し\": 0,\n",
    "        \"無子\": 0,\n",
    "        \"子供ゼロ\": 0,\n",
    "        \"非育児家庭\": 0,\n",
    "        \"子育て状況不明\": np.nan,\n",
    "        \"子の数不詳\": np.nan,\n",
    "        \"子供の数不明\": np.nan,\n",
    "        \"こども1人\": 1,\n",
    "        \"1児\": 1,\n",
    "        \"子供1人\": 1,\n",
    "        \"子供有り(1人)\": 1,\n",
    "        \"子供有り 1人\": 1,\n",
    "        \"こども2人\": 2,\n",
    "        \"2児\": 2,\n",
    "        \"子供2人\": 2,\n",
    "        \"子供有り(2人)\": 2,\n",
    "        \"こども3人\": 3,\n",
    "        \"3児\": 3,\n",
    "        \"子供3人\": 3,\n",
    "        \"子供有り 2人\": 2,\n",
    "        \"子供有り 3人\": 3,\n",
    "        \"子供有り(3人)\": 3,\n",
    "        \"わからない\": np.nan,\n",
    "        \"不明\": np.nan,\n",
    "    }\n",
    "    \n",
    "    # データフレームの対象カラムに適用\n",
    "    df[\"car\"] = df[\"car\"].apply(dict_replace_function, replace_dict=car_replace_dict)\n",
    "    df[\"children\"] = df[\"children\"].apply(dict_replace_function, replace_dict=children_replace_dict)\n",
    "\n",
    "    return df\n"
   ]
  },
  {
   "cell_type": "code",
   "execution_count": 47,
   "metadata": {},
   "outputs": [
    {
     "data": {
      "text/plain": [
       "array(['0', 'nan', '1', '2', '3'], dtype=object)"
      ]
     },
     "execution_count": 47,
     "metadata": {},
     "output_type": "execute_result"
    }
   ],
   "source": [
    "# ローカルファイルを読み込む\n",
    "train_df = pd.read_csv(\"../data/train.csv\")\n",
    "test_df = pd.read_csv(\"../data/test.csv\")\n",
    "train_df = customer_info_preprocess(train_df, \"customer_info\")\n",
    "train_df.to_csv(\"../data/train_preprocessed.csv\", index=False)\n",
    "train_df[\"marriage_history\"].unique()\n",
    "# train_df[\"car\"].unique()\n",
    "train_df[\"children\"].unique()"
   ]
  }
 ],
 "metadata": {
  "kernelspec": {
   "display_name": ".venv",
   "language": "python",
   "name": "python3"
  },
  "language_info": {
   "codemirror_mode": {
    "name": "ipython",
    "version": 3
   },
   "file_extension": ".py",
   "mimetype": "text/x-python",
   "name": "python",
   "nbconvert_exporter": "python",
   "pygments_lexer": "ipython3",
   "version": "3.10.2"
  }
 },
 "nbformat": 4,
 "nbformat_minor": 2
}
