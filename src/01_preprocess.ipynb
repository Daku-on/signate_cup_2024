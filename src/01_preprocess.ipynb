{
 "cells": [
  {
   "cell_type": "markdown",
   "metadata": {},
   "source": [
    "# 前処理"
   ]
  },
  {
   "cell_type": "code",
   "execution_count": 2,
   "metadata": {},
   "outputs": [],
   "source": [
    "import pandas as pd\n",
    "import numpy as np"
   ]
  },
  {
   "cell_type": "markdown",
   "metadata": {},
   "source": [
    "## データの読み込み"
   ]
  },
  {
   "cell_type": "code",
   "execution_count": 3,
   "metadata": {},
   "outputs": [],
   "source": [
    "# ローカルファイルを読み込む\n",
    "train_df = pd.read_csv(\"../data/train.csv\")\n",
    "test_df = pd.read_csv(\"../data/test.csv\")\n",
    "# google colaboratory で実行する場合は以下を有効にする\n",
    "# from google.colab import drive\n",
    "# drive.mount('/content/drive')\n",
    "# train_df = pd.read_csv(\"/content/drive/mydrive/signate_cup_2024_data/train.csv\")\n",
    "# test_df = pd.read_csv(\"/content/drive/mydrive/signate_cup_2024_data/test.csv\")"
   ]
  },
  {
   "cell_type": "code",
   "execution_count": 8,
   "metadata": {},
   "outputs": [
    {
     "data": {
      "text/plain": [
       "Index(['id', 'Age', 'TypeofContact', 'CityTier', 'DurationOfPitch',\n",
       "       'Occupation', 'Gender', 'NumberOfPersonVisiting', 'NumberOfFollowups',\n",
       "       'ProductPitched', 'PreferredPropertyStar', 'NumberOfTrips', 'Passport',\n",
       "       'PitchSatisfactionScore', 'Designation', 'MonthlyIncome',\n",
       "       'customer_info', 'ProdTaken'],\n",
       "      dtype='object')"
      ]
     },
     "execution_count": 8,
     "metadata": {},
     "output_type": "execute_result"
    }
   ],
   "source": [
    "train_df.columns"
   ]
  },
  {
   "cell_type": "code",
   "execution_count": 11,
   "metadata": {},
   "outputs": [
    {
     "name": "stdout",
     "output_type": "stream",
     "text": [
      "Designateion NULL count: 0\n",
      "MonthlyIncome NULL count: 56\n",
      "customer_info NULL count: 0\n"
     ]
    }
   ],
   "source": [
    "# 3カラムにNULL値が存在するかどうか確認\n",
    "print(\"Designateion NULL count: {}\".format(train_df[\"Designation\"].isnull().sum()))\n",
    "print(\"MonthlyIncome NULL count: {}\".format(train_df[\"MonthlyIncome\"].isnull().sum()))\n",
    "print(\"customer_info NULL count: {}\".format(train_df[\"customer_info\"].isnull().sum()))"
   ]
  },
  {
   "cell_type": "markdown",
   "metadata": {},
   "source": [
    "## Designationカラム"
   ]
  },
  {
   "cell_type": "code",
   "execution_count": 4,
   "metadata": {},
   "outputs": [],
   "source": [
    "def convert_fullwidth_to_halfwidth_and_extract_invalid(\n",
    "    df: pd.DataFrame,\n",
    "    column_name: str,\n",
    ") -> pd.DataFrame:\n",
    "    \"\"\"\n",
    "    指定されたカラムに対して次の処理を行う:\n",
    "    1. 全角英字を半角英字に変換\n",
    "    2. それでもなおAからz以外の文字が含まれるユニークな値をリストとして返す\n",
    "    \n",
    "    Args:\n",
    "        df (pd.DataFrame): 対象のデータフレーム\n",
    "        column_name (str): 操作を行うカラムの名前\n",
    "    \n",
    "    Returns:\n",
    "        pd.DataFrame: 修正後のデータフレーム\n",
    "        list: 条件に合わないレコードのユニークな値\n",
    "    \"\"\"\n",
    "    # 全角英字を半角英字に変換\n",
    "    def convert_fullwidth_to_halfwidth(text: str) -> str:\n",
    "        \"\"\"\n",
    "        全角英字を半角英字に変換するヘルパー関数\n",
    "\n",
    "        Args:\n",
    "            text (str): 入力文字列\n",
    "\n",
    "        Returns:\n",
    "            str: 半角に変換された文字列\n",
    "        \"\"\"\n",
    "        return ''.join(\n",
    "            chr(ord(char) - 65248) if 'Ａ' <= char <= 'Ｚ' or 'ａ' <= char <= 'ｚ' else char\n",
    "            for char in text\n",
    "        )\n",
    "\n",
    "    # 対象カラムの全角英字を半角英字に変換\n",
    "    df[column_name] = df[column_name].apply(lambda x: convert_fullwidth_to_halfwidth(x) if pd.notna(x) else x)\n",
    "\n",
    "    # Aからz以外の文字を含む行のindexを取得\n",
    "    invalid_indices = df[~df[column_name].str.match(r'^[A-Za-z]+$', na=False)].index\n",
    "\n",
    "    # 条件に合わないレコードのユニークな値をリストとして取得\n",
    "    unique_invalid_values = df.loc[invalid_indices, column_name].unique().tolist()\n",
    "\n",
    "    return df, unique_invalid_values"
   ]
  },
  {
   "cell_type": "code",
   "execution_count": 13,
   "metadata": {},
   "outputs": [
    {
     "data": {
      "text/plain": [
       "['Senior Manager',\n",
       " 'Senior Manage𝙧',\n",
       " 'Μanager',\n",
       " 'Sеnior Manager',\n",
       " 'ΑVP',\n",
       " 'АVP',\n",
       " 'E×ecutive',\n",
       " 'Mαnage𝙧',\n",
       " 'Executiѵе',\n",
       " 'Ѕenior Manager',\n",
       " 'Managеr',\n",
       " 'Еxecutivе',\n",
       " 'Senior Μanαger',\n",
       " 'Еxecutive',\n",
       " 'Exеcutivе',\n",
       " 'Exеcutive',\n",
       " 'Senior Managе𝙧',\n",
       " 'Manage𝙧',\n",
       " 'Senio𝙧 Manager',\n",
       " 'Manαger',\n",
       " 'Μanage𝙧',\n",
       " 'Manαgеr',\n",
       " 'Senior Managеr',\n",
       " 'Executivе',\n",
       " 'Executiѵe',\n",
       " 'Е×еcutive',\n",
       " 'Տenior Μanager',\n",
       " 'Exеcutiѵе',\n",
       " 'Senior Manαger',\n",
       " 'Mαnager',\n",
       " 'Senior Mαnαger',\n",
       " 'E×еcutiѵe',\n",
       " 'Ѕenior Manαger',\n",
       " 'Mαnαger',\n",
       " 'Μanagеr',\n",
       " 'Sеnior Managеr',\n",
       " 'Տenior Manager',\n",
       " 'Mαnagеr',\n",
       " 'Еxеcutivе',\n",
       " 'Senior Mαnager',\n",
       " 'Е×ecutive']"
      ]
     },
     "execution_count": 13,
     "metadata": {},
     "output_type": "execute_result"
    }
   ],
   "source": [
    "# Designationカラムに対して処理を行う\n",
    "train_df, unique_invalid_values = convert_fullwidth_to_halfwidth_and_extract_invalid(train_df, \"Designation\")\n",
    "unique_invalid_values"
   ]
  },
  {
   "cell_type": "code",
   "execution_count": 6,
   "metadata": {},
   "outputs": [
    {
     "data": {
      "text/plain": [
       "(     name  value\n",
       " 0     ABC      1\n",
       " 1     xyz      2\n",
       " 2     123      3\n",
       " 3   ABCDE      4\n",
       " 4      漢字      5\n",
       " 5  ABCdef      6\n",
       " 6    ABC１      7,\n",
       " ['123', '漢字', 'ABC１'])"
      ]
     },
     "execution_count": 6,
     "metadata": {},
     "output_type": "execute_result"
    }
   ],
   "source": [
    "# サンプルデータフレーム\n",
    "data = pd.DataFrame(\n",
    "        {\n",
    "        \"name\": [\"ＡＢＣ\", \"xyz\", \"123\", \"ＡＢＣＤＥ\", \"漢字\", \"ＡＢＣdef\", \"ＡＢＣ１\"],\n",
    "        \"value\": [1, 2, 3, 4, 5, 6, 7]\n",
    "        }\n",
    ")\n",
    "convert_fullwidth_to_halfwidth_and_extract_invalid(data, \"name\")"
   ]
  },
  {
   "cell_type": "markdown",
   "metadata": {},
   "source": [
    "## MonthlyIncomeカラム"
   ]
  },
  {
   "cell_type": "code",
   "execution_count": null,
   "metadata": {},
   "outputs": [],
   "source": []
  },
  {
   "cell_type": "markdown",
   "metadata": {},
   "source": [
    "## Customer_infoカラム"
   ]
  }
 ],
 "metadata": {
  "kernelspec": {
   "display_name": ".venv",
   "language": "python",
   "name": "python3"
  },
  "language_info": {
   "codemirror_mode": {
    "name": "ipython",
    "version": 3
   },
   "file_extension": ".py",
   "mimetype": "text/x-python",
   "name": "python",
   "nbconvert_exporter": "python",
   "pygments_lexer": "ipython3",
   "version": "3.10.2"
  }
 },
 "nbformat": 4,
 "nbformat_minor": 2
}
