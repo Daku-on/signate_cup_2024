{
 "cells": [
  {
   "cell_type": "code",
   "execution_count": 6,
   "metadata": {},
   "outputs": [],
   "source": [
    "import pandas as pd\n",
    "import numpy as np\n",
    "import pickle\n",
    "from sklearn.model_selection import train_test_split, GridSearchCV\n",
    "from sklearn.preprocessing import StandardScaler\n",
    "from imblearn.over_sampling import SMOTE\n",
    "import xgboost as xgb\n",
    "from sklearn.feature_selection import VarianceThreshold, SelectKBest, f_classif, chi2\n",
    "from sklearn.metrics import accuracy_score, precision_score, recall_score, f1_score, roc_auc_score, matthews_corrcoef, confusion_matrix"
   ]
  },
  {
   "cell_type": "code",
   "execution_count": 17,
   "metadata": {},
   "outputs": [],
   "source": [
    "RANDOM_STATE = 42\n",
    "TARGET_COLUMN = \"ProdTaken\"\n",
    "DROP_COLUMNS = [\"id\", \"MonthlyIncome\", \"customer_info\"]\n",
    "NUMERIC_FEATURES = [\n",
    "    \"CityTier\",\n",
    "    \"DurationOfPitch\",\n",
    "    \"Occupation\",\n",
    "    \"NumberOfPersonVisiting\",\n",
    "    \"NumberOfFollowups\",\n",
    "    \"ProductPitched\",\n",
    "    \"PreferredPropertyStar\",\n",
    "    \"NumberOfTrips\",\n",
    "    \"PitchSatisfactionScore\",\n",
    "    \"Designation\",\n",
    "    \"Age\",\n",
    "    \"MonthlyIncome_numeric\",\n",
    "    \"children\",\n",
    "]\n",
    "CATEGORICAL_FEATURES = [\n",
    "    \"Gender(is_male)\",\n",
    "    \"Passport\",\n",
    "    \"car\",\n",
    "    \"TypeofContact_Company Invited\",\n",
    "    \"TypeofContact_Self Enquiry\",\n",
    "    \"TypeofContact_unknown\",\n",
    "    \"marriage_history_未婚\",\n",
    "    \"marriage_history_独身\",\n",
    "    \"marriage_history_結婚済み\",\n",
    "    \"marriage_history_離婚済み\",\n",
    "]\n"
   ]
  },
  {
   "cell_type": "code",
   "execution_count": 18,
   "metadata": {},
   "outputs": [],
   "source": [
    "# データの読み込み\n",
    "train_df = pd.read_csv(\"../data/20240812/train_preprocessed.csv\")\n",
    "test_df = pd.read_csv(\"../data/20240812/test_preprocessed.csv\")\n",
    "\n",
    "# 特徴量とターゲットの分離\n",
    "X = train_df.drop([TARGET_COLUMN, \"id\"], axis=1)\n",
    "y = train_df[TARGET_COLUMN]\n",
    "\n",
    "# データの分割 (訓練データと検証データ)\n",
    "X_train, X_val, y_train, y_val = train_test_split(X, y, test_size=0.2, random_state=RANDOM_STATE)\n",
    "\n",
    "X_test = test_df.drop(\"id\", axis=1)\n"
   ]
  },
  {
   "cell_type": "code",
   "execution_count": 19,
   "metadata": {},
   "outputs": [
    {
     "data": {
      "text/plain": [
       "Index(['CityTier', 'DurationOfPitch', 'Occupation', 'Gender(is_male)',\n",
       "       'NumberOfPersonVisiting', 'NumberOfFollowups', 'ProductPitched',\n",
       "       'PreferredPropertyStar', 'NumberOfTrips', 'Passport',\n",
       "       'PitchSatisfactionScore', 'Designation', 'Age', 'MonthlyIncome_numeric',\n",
       "       'car', 'children', 'TypeofContact_Company Invited',\n",
       "       'TypeofContact_Self Enquiry', 'TypeofContact_unknown',\n",
       "       'marriage_history_未婚', 'marriage_history_独身', 'marriage_history_結婚済み',\n",
       "       'marriage_history_離婚済み'],\n",
       "      dtype='object')"
      ]
     },
     "execution_count": 19,
     "metadata": {},
     "output_type": "execute_result"
    }
   ],
   "source": [
    "X_train.columns"
   ]
  },
  {
   "cell_type": "code",
   "execution_count": 20,
   "metadata": {},
   "outputs": [
    {
     "name": "stdout",
     "output_type": "stream",
     "text": [
      "データ数 (SMOTE適用前): 2791 行\n",
      "クラス 0 の数: 2385\n",
      "クラス 1 の数: 406\n",
      "\n",
      "データ数 (SMOTE適用後): 3577 行\n",
      "クラス 0 の数: 2385\n",
      "クラス 1 の数: 1192\n",
      "\n"
     ]
    }
   ],
   "source": [
    "\n",
    "# SMOTE適用前のクラス分布の確認\n",
    "print(f\"データ数 (SMOTE適用前): {len(X_train)} 行\")\n",
    "print(f\"クラス 0 の数: {sum(y_train==0)}\")\n",
    "print(f\"クラス 1 の数: {sum(y_train==1)}\\n\")\n",
    "\n",
    "# SMOTEを使用してクラス不均衡を解消\n",
    "smote = SMOTE(sampling_strategy=0.5, random_state=RANDOM_STATE)\n",
    "X_train, y_train = smote.fit_resample(X_train, y_train)\n",
    "\n",
    "# SMOTE適用後のクラス分布の確認\n",
    "print(f\"データ数 (SMOTE適用後): {len(X_train)} 行\")\n",
    "print(f\"クラス 0 の数: {sum(y_train==0)}\")\n",
    "print(f\"クラス 1 の数: {sum(y_train==1)}\\n\")\n"
   ]
  },
  {
   "cell_type": "code",
   "execution_count": 23,
   "metadata": {},
   "outputs": [],
   "source": [
    "\n",
    "# # 分散に基づく特徴量選択\n",
    "# vars = VarianceThreshold(0.2)\n",
    "# vars.fit(X_train)\n",
    "# X_train_fs = pd.DataFrame(vars.transform(X_train), columns=vars.get_feature_names_out())\n",
    "# X_val_fs = pd.DataFrame(vars.transform(X_val), columns=vars.get_feature_names_out())\n",
    "# X_test_fs = pd.DataFrame(vars.transform(X_test), columns=vars.get_feature_names_out())\n"
   ]
  },
  {
   "cell_type": "code",
   "execution_count": 25,
   "metadata": {},
   "outputs": [],
   "source": [
    "X_train_fs = X_train\n",
    "X_val_fs = X_val\n",
    "X_test_fs = X_test"
   ]
  },
  {
   "cell_type": "code",
   "execution_count": 26,
   "metadata": {},
   "outputs": [
    {
     "name": "stdout",
     "output_type": "stream",
     "text": [
      "選択された特徴量: ['ProductPitched', 'Designation', 'Age', 'MonthlyIncome_numeric', 'Gender(is_male)', 'Passport', 'TypeofContact_Company Invited', 'TypeofContact_Self Enquiry', 'marriage_history_未婚', 'marriage_history_独身', 'marriage_history_結婚済み', 'marriage_history_離婚済み']\n"
     ]
    }
   ],
   "source": [
    "\n",
    "# 数値特徴量に対するf_classifを使用した特徴量選択\n",
    "nume_cols = NUMERIC_FEATURES\n",
    "classif = SelectKBest(f_classif, k=4)\n",
    "classif.fit(X_train_fs[nume_cols], y_train)\n",
    "X_train_fnum = pd.DataFrame(classif.transform(X_train_fs[nume_cols]), columns=classif.get_feature_names_out())\n",
    "X_val_fnum = pd.DataFrame(classif.transform(X_val_fs[nume_cols]), columns=classif.get_feature_names_out())\n",
    "X_test_fnum = pd.DataFrame(classif.transform(X_test_fs[nume_cols]), columns=classif.get_feature_names_out())\n",
    "\n",
    "# カテゴリカル特徴量に対するカイ二乗検定を使用した特徴量選択\n",
    "cate_cols = CATEGORICAL_FEATURES\n",
    "chi2 = SelectKBest(chi2, k=8)\n",
    "chi2.fit(X_train_fs[cate_cols], y_train)\n",
    "X_train_chi2 = pd.DataFrame(chi2.transform(X_train_fs[cate_cols]), columns=chi2.get_feature_names_out())\n",
    "X_val_chi2 = pd.DataFrame(chi2.transform(X_val_fs[cate_cols]), columns=chi2.get_feature_names_out())\n",
    "X_test_chi2 = pd.DataFrame(chi2.transform(X_test_fs[cate_cols]), columns=chi2.get_feature_names_out())\n",
    "\n",
    "# 選択された特徴量の結合\n",
    "all_coll = classif.get_feature_names_out().tolist() + chi2.get_feature_names_out().tolist()\n",
    "X_train = pd.concat([X_train_fnum, X_train_chi2], axis=1)\n",
    "X_val = pd.concat([X_val_fnum, X_val_chi2], axis=1)\n",
    "X_test = pd.concat([X_test_fnum, X_test_chi2], axis=1)\n",
    "\n",
    "# 選択された特徴量を表示\n",
    "print(f\"選択された特徴量: {all_coll}\")\n",
    "\n",
    "# 特徴量のスケーリング\n",
    "scaler = StandardScaler()\n",
    "X_train = scaler.fit_transform(X_train)\n",
    "X_val = scaler.transform(X_val)\n",
    "X_test = scaler.transform(X_test)\n"
   ]
  },
  {
   "cell_type": "code",
   "execution_count": 27,
   "metadata": {},
   "outputs": [
    {
     "ename": "",
     "evalue": "",
     "output_type": "error",
     "traceback": [
      "\u001b[1;31m現在のセルまたは前のセルでコードを実行中に、カーネル (Kernel) がクラッシュしました。\n",
      "\u001b[1;31mエラーの原因を特定するには、セル内のコードを確認してください。\n",
      "\u001b[1;31m詳細については<a href='https://aka.ms/vscodeJupyterKernelCrash'>こちら</a>をクリックします。\n",
      "\u001b[1;31m詳細については、Jupyter <a href='command:jupyter.viewOutput'>ログ</a> を参照してください。"
     ]
    }
   ],
   "source": [
    "\n",
    "# XGBoostモデルの定義\n",
    "xgb_model = xgb.XGBClassifier(use_label_encoder=False, eval_metric=\"logloss\", random_state=RANDOM_STATE)\n",
    "\n",
    "# ハイパーパラメータの候補\n",
    "param_grid = {\n",
    "    \"max_depth\" : [int(x) for x in np.linspace(10, 50, 10)],\n",
    "    \"min_child_weight\" : [int(x) for x in np.linspace(1, 10, 10)],\n",
    "    \"gamma\" : [float(x) for x in np.linspace(0, 1, 11)],\n",
    "    \"tree_method\" : [\"auto\", \"exact\", \"approx\", \"hist\"],\n",
    "    \"colsample_bytree\" : [float(x) for x in np.linspace(0, 1, 11)],\n",
    "    \"learning_rate\" : [float(x) for x in np.linspace(0, 1, 100)],\n",
    "    \"reg_lambda\" : [float(x) for x in np.linspace(0, 1, 11)],\n",
    "    \"reg_alpha\" : [float(x) for x in np.linspace(0, 1, 11)]\n",
    "}\n",
    "\n",
    "# グリッドサーチによるハイパーパラメータチューニング\n",
    "grid_search = GridSearchCV(estimator=xgb_model, param_grid=param_grid, scoring=\"accuracy\", cv=3, verbose=1)\n",
    "grid_search.fit(X_train, y_train)\n",
    "\n",
    "# 最適なハイパーパラメータの表示\n",
    "best_params = grid_search.best_params_\n",
    "print(\"最適なハイパーパラメータ:\", best_params)\n",
    "\n",
    "def eval_classification(model, X_train, y_train, X_test, y_test):\n",
    "    y_pred = model.predict(X_test)\n",
    "    y_pred_proba = model.predict_proba(X_test)\n",
    "    y_pred_proba_train = model.predict_proba(X_train)\n",
    "    \n",
    "    accuracy = round(accuracy_score(y_test, y_pred), 4)\n",
    "    precision = round(precision_score(y_test, y_pred), 4)\n",
    "    recall = round(recall_score(y_test, y_pred), 4)\n",
    "    f1 = round(f1_score(y_test, y_pred), 4)\n",
    "    mcc = round(matthews_corrcoef(y_test, y_pred), 4)\n",
    "    auc_test = round(roc_auc_score(y_test, y_pred_proba[:, 1]), 4)\n",
    "    auc_train = round(roc_auc_score(y_train, y_pred_proba_train[:, 1]), 4)   \n",
    "    \n",
    "    return accuracy, precision, recall, f1, mcc, auc_test, auc_train\n",
    "def eval_after_hyperparameter_tuning(model, X_train, y_train, X_test, y_test):\n",
    "    eval_new = eval_classification(model, X_train, y_train, X_test, y_test)\n",
    "    eval_score = [\"Accuracy\", \"Precision\", \"Recall\", \"F1 Score\", \"AUC (Test)\", \"AUC (Train)\"]\n",
    "    for score, e in zip(eval_score, eval_new):\n",
    "        print(score + \": \" + str(e))\n",
    "# ベストモデルでの再評価\n",
    "eval_after_hyperparameter_tuning(grid_search, X_train, y_train, X_val, y_val)\n"
   ]
  },
  {
   "cell_type": "code",
   "execution_count": null,
   "metadata": {},
   "outputs": [],
   "source": [
    "\n",
    "# 最終モデルの学習\n",
    "dtrain = xgb.DMatrix(X_train, label=y_train)\n",
    "dval = xgb.DMatrix(X_val, label=y_val)\n",
    "dtest = xgb.DMatrix(X_test)\n",
    "\n",
    "# 最適なパラメータを使用してXGBoostモデルの学習\n",
    "params = {\n",
    "    \"objective\": \"binary:logistic\",  # 二値分類タスク\n",
    "    \"max_depth\": best_params[\"max_depth\"],  # 最適な木の深さ\n",
    "    \"min_child_weight\": best_params[\"min_child_weight\"],\n",
    "    \"gamma\": best_params[\"gamma\"],\n",
    "    \"tree_method\": best_params[\"tree_method\"],\n",
    "    \"colsample_bytree\": best_params[\"colsample_bytree\"],\n",
    "    \"learning_rate\": best_params[\"learning_rate\"],\n",
    "    \"reg_lambda\": best_params[\"reg_lambda\"],\n",
    "    \"reg_alpha\": best_params[\"reg_alpha\"],\n",
    "    \"eval_metric\": \"logloss\"  # 評価指標\n",
    "}\n",
    "\n",
    "evals = [(dtrain, \"train\"), (dval, \"eval\")]\n",
    "bst = xgb.train(params, dtrain, num_boost_round=100, evals=evals, early_stopping_rounds=10)\n"
   ]
  },
  {
   "cell_type": "code",
   "execution_count": null,
   "metadata": {},
   "outputs": [],
   "source": [
    "# modelの保存\n",
    "pickle.dump(bst, open(\"model.pkl\", \"wb\"))"
   ]
  },
  {
   "cell_type": "code",
   "execution_count": null,
   "metadata": {},
   "outputs": [],
   "source": [
    "\n",
    "# テストデータに対する予測\n",
    "predictions = bst.predict(dtest)\n",
    "\n",
    "# 予測結果のバイナリ変換 (0か1)\n",
    "predictions_binary = [1 if pred > 0.5 else 0 for pred in predictions]\n",
    "\n",
    "# 検証データに対する精度の評価\n",
    "y_pred_val = bst.predict(dval)\n",
    "accuracy = accuracy_score(y_val, [1 if pred > 0.5 else 0 for pred in y_pred_val])\n",
    "print(f\"Validation Accuracy: {accuracy:.4f}\")\n"
   ]
  }
 ],
 "metadata": {
  "kernelspec": {
   "display_name": ".venv",
   "language": "python",
   "name": "python3"
  },
  "language_info": {
   "codemirror_mode": {
    "name": "ipython",
    "version": 3
   },
   "file_extension": ".py",
   "mimetype": "text/x-python",
   "name": "python",
   "nbconvert_exporter": "python",
   "pygments_lexer": "ipython3",
   "version": "3.10.2"
  }
 },
 "nbformat": 4,
 "nbformat_minor": 2
}
