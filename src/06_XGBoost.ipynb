{
  "cells": [
    {
      "cell_type": "code",
      "execution_count": 1,
      "metadata": {
        "id": "P0jgZ03UrBbn"
      },
      "outputs": [],
      "source": [
        "import pandas as pd\n",
        "import numpy as np\n",
        "import pickle\n",
        "from sklearn.model_selection import train_test_split, GridSearchCV, RandomizedSearchCV\n",
        "from sklearn.preprocessing import StandardScaler\n",
        "from imblearn.over_sampling import SMOTE\n",
        "import xgboost as xgb\n",
        "from sklearn.feature_selection import VarianceThreshold, SelectKBest, f_classif, chi2\n",
        "from sklearn.metrics import accuracy_score, precision_score, recall_score, f1_score, roc_auc_score, matthews_corrcoef, confusion_matrix"
      ]
    },
    {
      "cell_type": "code",
      "execution_count": 2,
      "metadata": {
        "id": "ix08-KlHrBbo"
      },
      "outputs": [],
      "source": [
        "RANDOM_STATE = 42\n",
        "TARGET_COLUMN = \"ProdTaken\"\n",
        "DROP_COLUMNS = [\"id\", \"MonthlyIncome\", \"customer_info\"]\n",
        "NUMERIC_FEATURES = [\n",
        "    \"CityTier\",\n",
        "    \"DurationOfPitch\",\n",
        "    \"Occupation\",\n",
        "    \"NumberOfPersonVisiting\",\n",
        "    \"NumberOfFollowups\",\n",
        "    \"ProductPitched\",\n",
        "    \"PreferredPropertyStar\",\n",
        "    \"NumberOfTrips\",\n",
        "    \"PitchSatisfactionScore\",\n",
        "    \"Designation\",\n",
        "    \"Age\",\n",
        "    \"MonthlyIncome_numeric\",\n",
        "    \"children\",\n",
        "]\n",
        "CATEGORICAL_FEATURES = [\n",
        "    \"Gender(is_male)\",\n",
        "    \"Passport\",\n",
        "    \"car\",\n",
        "    \"TypeofContact_Company Invited\",\n",
        "    \"TypeofContact_Self Enquiry\",\n",
        "    \"TypeofContact_unknown\",\n",
        "    \"marriage_history_未婚\",\n",
        "    \"marriage_history_独身\",\n",
        "    \"marriage_history_結婚済み\",\n",
        "    \"marriage_history_離婚済み\",\n",
        "]\n"
      ]
    },
    {
      "cell_type": "code",
      "execution_count": 3,
      "metadata": {
        "colab": {
          "base_uri": "https://localhost:8080/"
        },
        "id": "YodUAfjMrBbo",
        "outputId": "84fabd2f-6206-4dc5-f0cc-0704af510dc8"
      },
      "outputs": [
        {
          "output_type": "stream",
          "name": "stdout",
          "text": [
            "Drive already mounted at /content/drive; to attempt to forcibly remount, call drive.mount(\"/content/drive\", force_remount=True).\n"
          ]
        }
      ],
      "source": [
        "# データの読み込み\n",
        "# train_df = pd.read_csv(\"../data/20240812/train_preprocessed.csv\")\n",
        "# test_df = pd.read_csv(\"../data/20240812/test_preprocessed.csv\")\n",
        "from google.colab import drive\n",
        "drive.mount('/content/drive')\n",
        "train_df = pd.read_csv(\"/content/drive/MyDrive/signate_cup_2024_data/train_preprocessed.csv\")\n",
        "test_df = pd.read_csv(\"/content/drive/MyDrive/signate_cup_2024_data/test_preprocessed.csv\")\n",
        "\n",
        "# 特徴量とターゲットの分離\n",
        "X = train_df.drop([TARGET_COLUMN, \"id\"], axis=1)\n",
        "y = train_df[TARGET_COLUMN]\n",
        "\n",
        "# データの分割 (訓練データと検証データ)\n",
        "X_train, X_val, y_train, y_val = train_test_split(X, y, test_size=0.2, random_state=RANDOM_STATE)\n",
        "\n",
        "X_test = test_df.drop(\"id\", axis=1)\n"
      ]
    },
    {
      "cell_type": "code",
      "execution_count": 4,
      "metadata": {
        "colab": {
          "base_uri": "https://localhost:8080/"
        },
        "id": "13Kyfup9rBbo",
        "outputId": "abca8734-0a78-4f84-9358-b7cffedf2f3d"
      },
      "outputs": [
        {
          "output_type": "execute_result",
          "data": {
            "text/plain": [
              "Index(['CityTier', 'DurationOfPitch', 'Occupation', 'Gender(is_male)',\n",
              "       'NumberOfPersonVisiting', 'NumberOfFollowups', 'ProductPitched',\n",
              "       'PreferredPropertyStar', 'NumberOfTrips', 'Passport',\n",
              "       'PitchSatisfactionScore', 'Designation', 'Age', 'MonthlyIncome_numeric',\n",
              "       'car', 'children', 'TypeofContact_Company Invited',\n",
              "       'TypeofContact_Self Enquiry', 'TypeofContact_unknown',\n",
              "       'marriage_history_未婚', 'marriage_history_独身', 'marriage_history_結婚済み',\n",
              "       'marriage_history_離婚済み'],\n",
              "      dtype='object')"
            ]
          },
          "metadata": {},
          "execution_count": 4
        }
      ],
      "source": [
        "X_train.columns"
      ]
    },
    {
      "cell_type": "code",
      "execution_count": 5,
      "metadata": {
        "colab": {
          "base_uri": "https://localhost:8080/"
        },
        "id": "By2uqrXVrBbp",
        "outputId": "2e3ab02b-cc3b-4a45-aedf-5d3d755b74bf"
      },
      "outputs": [
        {
          "output_type": "stream",
          "name": "stdout",
          "text": [
            "データ数 (SMOTE適用前): 2791 行\n",
            "クラス 0 の数: 2385\n",
            "クラス 1 の数: 406\n",
            "\n",
            "データ数 (SMOTE適用後): 3577 行\n",
            "クラス 0 の数: 2385\n",
            "クラス 1 の数: 1192\n",
            "\n"
          ]
        }
      ],
      "source": [
        "\n",
        "# SMOTE適用前のクラス分布の確認\n",
        "print(f\"データ数 (SMOTE適用前): {len(X_train)} 行\")\n",
        "print(f\"クラス 0 の数: {sum(y_train==0)}\")\n",
        "print(f\"クラス 1 の数: {sum(y_train==1)}\\n\")\n",
        "\n",
        "# SMOTEを使用してクラス不均衡を解消\n",
        "smote = SMOTE(sampling_strategy=0.5, random_state=RANDOM_STATE)\n",
        "X_train, y_train = smote.fit_resample(X_train, y_train)\n",
        "\n",
        "# SMOTE適用後のクラス分布の確認\n",
        "print(f\"データ数 (SMOTE適用後): {len(X_train)} 行\")\n",
        "print(f\"クラス 0 の数: {sum(y_train==0)}\")\n",
        "print(f\"クラス 1 の数: {sum(y_train==1)}\\n\")\n"
      ]
    },
    {
      "cell_type": "code",
      "execution_count": 6,
      "metadata": {
        "id": "SKkoHYdKrBbp"
      },
      "outputs": [],
      "source": [
        "\n",
        "# # 分散に基づく特徴量選択\n",
        "# vars = VarianceThreshold(0.2)\n",
        "# vars.fit(X_train)\n",
        "# X_train_fs = pd.DataFrame(vars.transform(X_train), columns=vars.get_feature_names_out())\n",
        "# X_val_fs = pd.DataFrame(vars.transform(X_val), columns=vars.get_feature_names_out())\n",
        "# X_test_fs = pd.DataFrame(vars.transform(X_test), columns=vars.get_feature_names_out())\n"
      ]
    },
    {
      "cell_type": "code",
      "execution_count": 7,
      "metadata": {
        "id": "XuaHEg1WrBbp"
      },
      "outputs": [],
      "source": [
        "X_train_fs = X_train\n",
        "X_val_fs = X_val\n",
        "X_test_fs = X_test"
      ]
    },
    {
      "cell_type": "code",
      "execution_count": 8,
      "metadata": {
        "colab": {
          "base_uri": "https://localhost:8080/"
        },
        "id": "nx9WuENIrBbp",
        "outputId": "54f6e1b4-b2e2-45e8-e7ff-d298d00fed1d"
      },
      "outputs": [
        {
          "output_type": "stream",
          "name": "stdout",
          "text": [
            "選択された特徴量: ['ProductPitched', 'Designation', 'Age', 'MonthlyIncome_numeric', 'Gender(is_male)', 'Passport', 'TypeofContact_Company Invited', 'TypeofContact_Self Enquiry', 'marriage_history_未婚', 'marriage_history_独身', 'marriage_history_結婚済み', 'marriage_history_離婚済み']\n"
          ]
        }
      ],
      "source": [
        "\n",
        "# 数値特徴量に対するf_classifを使用した特徴量選択\n",
        "nume_cols = NUMERIC_FEATURES\n",
        "classif = SelectKBest(f_classif, k=4)\n",
        "classif.fit(X_train_fs[nume_cols], y_train)\n",
        "X_train_fnum = pd.DataFrame(classif.transform(X_train_fs[nume_cols]), columns=classif.get_feature_names_out())\n",
        "X_val_fnum = pd.DataFrame(classif.transform(X_val_fs[nume_cols]), columns=classif.get_feature_names_out())\n",
        "X_test_fnum = pd.DataFrame(classif.transform(X_test_fs[nume_cols]), columns=classif.get_feature_names_out())\n",
        "\n",
        "# カテゴリカル特徴量に対するカイ二乗検定を使用した特徴量選択\n",
        "cate_cols = CATEGORICAL_FEATURES\n",
        "chi2 = SelectKBest(chi2, k=8)\n",
        "chi2.fit(X_train_fs[cate_cols], y_train)\n",
        "X_train_chi2 = pd.DataFrame(chi2.transform(X_train_fs[cate_cols]), columns=chi2.get_feature_names_out())\n",
        "X_val_chi2 = pd.DataFrame(chi2.transform(X_val_fs[cate_cols]), columns=chi2.get_feature_names_out())\n",
        "X_test_chi2 = pd.DataFrame(chi2.transform(X_test_fs[cate_cols]), columns=chi2.get_feature_names_out())\n",
        "\n",
        "# 選択された特徴量の結合\n",
        "all_coll = classif.get_feature_names_out().tolist() + chi2.get_feature_names_out().tolist()\n",
        "X_train = pd.concat([X_train_fnum, X_train_chi2], axis=1)\n",
        "X_val = pd.concat([X_val_fnum, X_val_chi2], axis=1)\n",
        "X_test = pd.concat([X_test_fnum, X_test_chi2], axis=1)\n",
        "\n",
        "# 選択された特徴量を表示\n",
        "print(f\"選択された特徴量: {all_coll}\")\n",
        "\n",
        "# 特徴量のスケーリング\n",
        "scaler = StandardScaler()\n",
        "X_train = scaler.fit_transform(X_train)\n",
        "X_val = scaler.transform(X_val)\n",
        "X_test = scaler.transform(X_test)\n"
      ]
    },
    {
      "cell_type": "code",
      "execution_count": 9,
      "metadata": {
        "colab": {
          "base_uri": "https://localhost:8080/"
        },
        "id": "Hpi0X8DerBbp",
        "outputId": "082ae24e-89c0-41e9-882e-ae824fabbbd3"
      },
      "outputs": [
        {
          "output_type": "stream",
          "name": "stderr",
          "text": [
            "/usr/local/lib/python3.10/dist-packages/xgboost/core.py:158: UserWarning: [09:41:52] WARNING: /workspace/src/learner.cc:740: \n",
            "Parameters: { \"use_label_encoder\" } are not used.\n",
            "\n",
            "  warnings.warn(smsg, UserWarning)\n",
            "/usr/local/lib/python3.10/dist-packages/xgboost/core.py:158: UserWarning: [09:42:02] WARNING: /workspace/src/learner.cc:740: \n",
            "Parameters: { \"use_label_encoder\" } are not used.\n",
            "\n",
            "  warnings.warn(smsg, UserWarning)\n",
            "/usr/local/lib/python3.10/dist-packages/xgboost/core.py:158: UserWarning: [09:42:06] WARNING: /workspace/src/learner.cc:740: \n",
            "Parameters: { \"use_label_encoder\" } are not used.\n",
            "\n",
            "  warnings.warn(smsg, UserWarning)\n",
            "/usr/local/lib/python3.10/dist-packages/xgboost/core.py:158: UserWarning: [09:42:12] WARNING: /workspace/src/learner.cc:740: \n",
            "Parameters: { \"use_label_encoder\" } are not used.\n",
            "\n",
            "  warnings.warn(smsg, UserWarning)\n",
            "/usr/local/lib/python3.10/dist-packages/xgboost/core.py:158: UserWarning: [09:42:18] WARNING: /workspace/src/learner.cc:740: \n",
            "Parameters: { \"use_label_encoder\" } are not used.\n",
            "\n",
            "  warnings.warn(smsg, UserWarning)\n",
            "/usr/local/lib/python3.10/dist-packages/xgboost/core.py:158: UserWarning: [09:42:19] WARNING: /workspace/src/learner.cc:740: \n",
            "Parameters: { \"use_label_encoder\" } are not used.\n",
            "\n",
            "  warnings.warn(smsg, UserWarning)\n",
            "/usr/local/lib/python3.10/dist-packages/xgboost/core.py:158: UserWarning: [09:42:19] WARNING: /workspace/src/learner.cc:740: \n",
            "Parameters: { \"use_label_encoder\" } are not used.\n",
            "\n",
            "  warnings.warn(smsg, UserWarning)\n",
            "/usr/local/lib/python3.10/dist-packages/xgboost/core.py:158: UserWarning: [09:42:19] WARNING: /workspace/src/learner.cc:740: \n",
            "Parameters: { \"use_label_encoder\" } are not used.\n",
            "\n",
            "  warnings.warn(smsg, UserWarning)\n",
            "/usr/local/lib/python3.10/dist-packages/xgboost/core.py:158: UserWarning: [09:42:19] WARNING: /workspace/src/learner.cc:740: \n",
            "Parameters: { \"use_label_encoder\" } are not used.\n",
            "\n",
            "  warnings.warn(smsg, UserWarning)\n",
            "/usr/local/lib/python3.10/dist-packages/xgboost/core.py:158: UserWarning: [09:42:19] WARNING: /workspace/src/learner.cc:740: \n",
            "Parameters: { \"use_label_encoder\" } are not used.\n",
            "\n",
            "  warnings.warn(smsg, UserWarning)\n",
            "/usr/local/lib/python3.10/dist-packages/xgboost/core.py:158: UserWarning: [09:42:19] WARNING: /workspace/src/learner.cc:740: \n",
            "Parameters: { \"use_label_encoder\" } are not used.\n",
            "\n",
            "  warnings.warn(smsg, UserWarning)\n",
            "/usr/local/lib/python3.10/dist-packages/xgboost/core.py:158: UserWarning: [09:42:19] WARNING: /workspace/src/learner.cc:740: \n",
            "Parameters: { \"use_label_encoder\" } are not used.\n",
            "\n",
            "  warnings.warn(smsg, UserWarning)\n",
            "/usr/local/lib/python3.10/dist-packages/xgboost/core.py:158: UserWarning: [09:42:19] WARNING: /workspace/src/learner.cc:740: \n",
            "Parameters: { \"use_label_encoder\" } are not used.\n",
            "\n",
            "  warnings.warn(smsg, UserWarning)\n",
            "/usr/local/lib/python3.10/dist-packages/xgboost/core.py:158: UserWarning: [09:42:19] WARNING: /workspace/src/learner.cc:740: \n",
            "Parameters: { \"use_label_encoder\" } are not used.\n",
            "\n",
            "  warnings.warn(smsg, UserWarning)\n",
            "/usr/local/lib/python3.10/dist-packages/xgboost/core.py:158: UserWarning: [09:42:19] WARNING: /workspace/src/learner.cc:740: \n",
            "Parameters: { \"use_label_encoder\" } are not used.\n",
            "\n",
            "  warnings.warn(smsg, UserWarning)\n",
            "/usr/local/lib/python3.10/dist-packages/xgboost/core.py:158: UserWarning: [09:42:20] WARNING: /workspace/src/learner.cc:740: \n",
            "Parameters: { \"use_label_encoder\" } are not used.\n",
            "\n",
            "  warnings.warn(smsg, UserWarning)\n",
            "/usr/local/lib/python3.10/dist-packages/xgboost/core.py:158: UserWarning: [09:42:20] WARNING: /workspace/src/learner.cc:740: \n",
            "Parameters: { \"use_label_encoder\" } are not used.\n",
            "\n",
            "  warnings.warn(smsg, UserWarning)\n",
            "/usr/local/lib/python3.10/dist-packages/xgboost/core.py:158: UserWarning: [09:42:20] WARNING: /workspace/src/learner.cc:740: \n",
            "Parameters: { \"use_label_encoder\" } are not used.\n",
            "\n",
            "  warnings.warn(smsg, UserWarning)\n",
            "/usr/local/lib/python3.10/dist-packages/xgboost/core.py:158: UserWarning: [09:42:20] WARNING: /workspace/src/learner.cc:740: \n",
            "Parameters: { \"use_label_encoder\" } are not used.\n",
            "\n",
            "  warnings.warn(smsg, UserWarning)\n",
            "/usr/local/lib/python3.10/dist-packages/xgboost/core.py:158: UserWarning: [09:42:20] WARNING: /workspace/src/learner.cc:740: \n",
            "Parameters: { \"use_label_encoder\" } are not used.\n",
            "\n",
            "  warnings.warn(smsg, UserWarning)\n",
            "/usr/local/lib/python3.10/dist-packages/xgboost/core.py:158: UserWarning: [09:42:20] WARNING: /workspace/src/learner.cc:740: \n",
            "Parameters: { \"use_label_encoder\" } are not used.\n",
            "\n",
            "  warnings.warn(smsg, UserWarning)\n",
            "/usr/local/lib/python3.10/dist-packages/xgboost/core.py:158: UserWarning: [09:42:20] WARNING: /workspace/src/learner.cc:740: \n",
            "Parameters: { \"use_label_encoder\" } are not used.\n",
            "\n",
            "  warnings.warn(smsg, UserWarning)\n",
            "/usr/local/lib/python3.10/dist-packages/xgboost/core.py:158: UserWarning: [09:42:20] WARNING: /workspace/src/learner.cc:740: \n",
            "Parameters: { \"use_label_encoder\" } are not used.\n",
            "\n",
            "  warnings.warn(smsg, UserWarning)\n",
            "/usr/local/lib/python3.10/dist-packages/xgboost/core.py:158: UserWarning: [09:42:20] WARNING: /workspace/src/learner.cc:740: \n",
            "Parameters: { \"use_label_encoder\" } are not used.\n",
            "\n",
            "  warnings.warn(smsg, UserWarning)\n",
            "/usr/local/lib/python3.10/dist-packages/xgboost/core.py:158: UserWarning: [09:42:20] WARNING: /workspace/src/learner.cc:740: \n",
            "Parameters: { \"use_label_encoder\" } are not used.\n",
            "\n",
            "  warnings.warn(smsg, UserWarning)\n",
            "/usr/local/lib/python3.10/dist-packages/xgboost/core.py:158: UserWarning: [09:42:20] WARNING: /workspace/src/learner.cc:740: \n",
            "Parameters: { \"use_label_encoder\" } are not used.\n",
            "\n",
            "  warnings.warn(smsg, UserWarning)\n",
            "/usr/local/lib/python3.10/dist-packages/xgboost/core.py:158: UserWarning: [09:42:20] WARNING: /workspace/src/learner.cc:740: \n",
            "Parameters: { \"use_label_encoder\" } are not used.\n",
            "\n",
            "  warnings.warn(smsg, UserWarning)\n",
            "/usr/local/lib/python3.10/dist-packages/xgboost/core.py:158: UserWarning: [09:42:20] WARNING: /workspace/src/learner.cc:740: \n",
            "Parameters: { \"use_label_encoder\" } are not used.\n",
            "\n",
            "  warnings.warn(smsg, UserWarning)\n",
            "/usr/local/lib/python3.10/dist-packages/xgboost/core.py:158: UserWarning: [09:42:21] WARNING: /workspace/src/learner.cc:740: \n",
            "Parameters: { \"use_label_encoder\" } are not used.\n",
            "\n",
            "  warnings.warn(smsg, UserWarning)\n",
            "/usr/local/lib/python3.10/dist-packages/xgboost/core.py:158: UserWarning: [09:42:21] WARNING: /workspace/src/learner.cc:740: \n",
            "Parameters: { \"use_label_encoder\" } are not used.\n",
            "\n",
            "  warnings.warn(smsg, UserWarning)\n",
            "/usr/local/lib/python3.10/dist-packages/xgboost/core.py:158: UserWarning: [09:42:21] WARNING: /workspace/src/learner.cc:740: \n",
            "Parameters: { \"use_label_encoder\" } are not used.\n",
            "\n",
            "  warnings.warn(smsg, UserWarning)\n",
            "/usr/local/lib/python3.10/dist-packages/xgboost/core.py:158: UserWarning: [09:42:21] WARNING: /workspace/src/learner.cc:740: \n",
            "Parameters: { \"use_label_encoder\" } are not used.\n",
            "\n",
            "  warnings.warn(smsg, UserWarning)\n",
            "/usr/local/lib/python3.10/dist-packages/xgboost/core.py:158: UserWarning: [09:42:22] WARNING: /workspace/src/learner.cc:740: \n",
            "Parameters: { \"use_label_encoder\" } are not used.\n",
            "\n",
            "  warnings.warn(smsg, UserWarning)\n",
            "/usr/local/lib/python3.10/dist-packages/xgboost/core.py:158: UserWarning: [09:42:22] WARNING: /workspace/src/learner.cc:740: \n",
            "Parameters: { \"use_label_encoder\" } are not used.\n",
            "\n",
            "  warnings.warn(smsg, UserWarning)\n",
            "/usr/local/lib/python3.10/dist-packages/xgboost/core.py:158: UserWarning: [09:42:22] WARNING: /workspace/src/learner.cc:740: \n",
            "Parameters: { \"use_label_encoder\" } are not used.\n",
            "\n",
            "  warnings.warn(smsg, UserWarning)\n",
            "/usr/local/lib/python3.10/dist-packages/xgboost/core.py:158: UserWarning: [09:42:22] WARNING: /workspace/src/learner.cc:740: \n",
            "Parameters: { \"use_label_encoder\" } are not used.\n",
            "\n",
            "  warnings.warn(smsg, UserWarning)\n",
            "/usr/local/lib/python3.10/dist-packages/xgboost/core.py:158: UserWarning: [09:42:22] WARNING: /workspace/src/learner.cc:740: \n",
            "Parameters: { \"use_label_encoder\" } are not used.\n",
            "\n",
            "  warnings.warn(smsg, UserWarning)\n",
            "/usr/local/lib/python3.10/dist-packages/xgboost/core.py:158: UserWarning: [09:42:22] WARNING: /workspace/src/learner.cc:740: \n",
            "Parameters: { \"use_label_encoder\" } are not used.\n",
            "\n",
            "  warnings.warn(smsg, UserWarning)\n",
            "/usr/local/lib/python3.10/dist-packages/xgboost/core.py:158: UserWarning: [09:42:22] WARNING: /workspace/src/learner.cc:740: \n",
            "Parameters: { \"use_label_encoder\" } are not used.\n",
            "\n",
            "  warnings.warn(smsg, UserWarning)\n",
            "/usr/local/lib/python3.10/dist-packages/xgboost/core.py:158: UserWarning: [09:42:23] WARNING: /workspace/src/learner.cc:740: \n",
            "Parameters: { \"use_label_encoder\" } are not used.\n",
            "\n",
            "  warnings.warn(smsg, UserWarning)\n",
            "/usr/local/lib/python3.10/dist-packages/xgboost/core.py:158: UserWarning: [09:42:23] WARNING: /workspace/src/learner.cc:740: \n",
            "Parameters: { \"use_label_encoder\" } are not used.\n",
            "\n",
            "  warnings.warn(smsg, UserWarning)\n",
            "/usr/local/lib/python3.10/dist-packages/xgboost/core.py:158: UserWarning: [09:42:23] WARNING: /workspace/src/learner.cc:740: \n",
            "Parameters: { \"use_label_encoder\" } are not used.\n",
            "\n",
            "  warnings.warn(smsg, UserWarning)\n",
            "/usr/local/lib/python3.10/dist-packages/xgboost/core.py:158: UserWarning: [09:42:23] WARNING: /workspace/src/learner.cc:740: \n",
            "Parameters: { \"use_label_encoder\" } are not used.\n",
            "\n",
            "  warnings.warn(smsg, UserWarning)\n",
            "/usr/local/lib/python3.10/dist-packages/xgboost/core.py:158: UserWarning: [09:42:23] WARNING: /workspace/src/learner.cc:740: \n",
            "Parameters: { \"use_label_encoder\" } are not used.\n",
            "\n",
            "  warnings.warn(smsg, UserWarning)\n",
            "/usr/local/lib/python3.10/dist-packages/xgboost/core.py:158: UserWarning: [09:42:23] WARNING: /workspace/src/learner.cc:740: \n",
            "Parameters: { \"use_label_encoder\" } are not used.\n",
            "\n",
            "  warnings.warn(smsg, UserWarning)\n",
            "/usr/local/lib/python3.10/dist-packages/xgboost/core.py:158: UserWarning: [09:42:23] WARNING: /workspace/src/learner.cc:740: \n",
            "Parameters: { \"use_label_encoder\" } are not used.\n",
            "\n",
            "  warnings.warn(smsg, UserWarning)\n",
            "/usr/local/lib/python3.10/dist-packages/xgboost/core.py:158: UserWarning: [09:42:23] WARNING: /workspace/src/learner.cc:740: \n",
            "Parameters: { \"use_label_encoder\" } are not used.\n",
            "\n",
            "  warnings.warn(smsg, UserWarning)\n",
            "/usr/local/lib/python3.10/dist-packages/xgboost/core.py:158: UserWarning: [09:42:23] WARNING: /workspace/src/learner.cc:740: \n",
            "Parameters: { \"use_label_encoder\" } are not used.\n",
            "\n",
            "  warnings.warn(smsg, UserWarning)\n",
            "/usr/local/lib/python3.10/dist-packages/xgboost/core.py:158: UserWarning: [09:42:23] WARNING: /workspace/src/learner.cc:740: \n",
            "Parameters: { \"use_label_encoder\" } are not used.\n",
            "\n",
            "  warnings.warn(smsg, UserWarning)\n",
            "/usr/local/lib/python3.10/dist-packages/xgboost/core.py:158: UserWarning: [09:42:23] WARNING: /workspace/src/learner.cc:740: \n",
            "Parameters: { \"use_label_encoder\" } are not used.\n",
            "\n",
            "  warnings.warn(smsg, UserWarning)\n",
            "/usr/local/lib/python3.10/dist-packages/xgboost/core.py:158: UserWarning: [09:42:23] WARNING: /workspace/src/learner.cc:740: \n",
            "Parameters: { \"use_label_encoder\" } are not used.\n",
            "\n",
            "  warnings.warn(smsg, UserWarning)\n"
          ]
        },
        {
          "output_type": "stream",
          "name": "stdout",
          "text": [
            "最適なハイパーパラメータ: {'tree_method': 'auto', 'reg_lambda': 0.8, 'reg_alpha': 0.8, 'min_child_weight': 2, 'max_depth': 18, 'learning_rate': 0.2828282828282829, 'gamma': 0.8, 'colsample_bytree': 0.6000000000000001}\n",
            "Accuracy: 0.8782\n",
            "Precision: 0.5375\n",
            "Recall: 0.4725\n",
            "F1 Score: 0.5029\n",
            "AUC (Test): 0.435\n",
            "AUC (Train): 0.8462\n"
          ]
        }
      ],
      "source": [
        "\n",
        "# XGBoostモデルの定義\n",
        "xgb_model = xgb.XGBClassifier(use_label_encoder=False, eval_metric=\"logloss\", random_state=RANDOM_STATE)\n",
        "\n",
        "# ハイパーパラメータの候補\n",
        "param_grid = {\n",
        "    \"max_depth\" : [int(x) for x in np.linspace(10, 50, 10)],\n",
        "    \"min_child_weight\" : [int(x) for x in np.linspace(1, 10, 10)],\n",
        "    \"gamma\" : [float(x) for x in np.linspace(0, 1, 11)],\n",
        "    \"tree_method\" : [\"auto\", \"exact\", \"approx\", \"hist\"],\n",
        "    \"colsample_bytree\" : [float(x) for x in np.linspace(0, 1, 11)],\n",
        "    \"learning_rate\" : [float(x) for x in np.linspace(0, 1, 100)],\n",
        "    \"reg_lambda\" : [float(x) for x in np.linspace(0, 1, 11)],\n",
        "    \"reg_alpha\" : [float(x) for x in np.linspace(0, 1, 11)]\n",
        "}\n",
        "\n",
        "# グリッドサーチによるハイパーパラメータチューニング\n",
        "grid_search_model = RandomizedSearchCV(xgb_model, param_grid, cv=5, scoring='accuracy', random_state=42)\n",
        "grid_search_model.fit(X_train, y_train)\n",
        "\n",
        "# モデルを保存\n",
        "pickle.dump(grid_search_model, open(\"hyper_tuned_model.pkl\", \"wb\"))\n",
        "\n",
        "# 最適なハイパーパラメータの表示\n",
        "best_params = grid_search_model.best_params_\n",
        "print(\"最適なハイパーパラメータ:\", best_params)\n",
        "\n",
        "def eval_classification(model, X_train, y_train, X_test, y_test):\n",
        "    y_pred = model.predict(X_test)\n",
        "    y_pred_proba = model.predict_proba(X_test)\n",
        "    y_pred_proba_train = model.predict_proba(X_train)\n",
        "\n",
        "    accuracy = round(accuracy_score(y_test, y_pred), 4)\n",
        "    precision = round(precision_score(y_test, y_pred), 4)\n",
        "    recall = round(recall_score(y_test, y_pred), 4)\n",
        "    f1 = round(f1_score(y_test, y_pred), 4)\n",
        "    mcc = round(matthews_corrcoef(y_test, y_pred), 4)\n",
        "    auc_test = round(roc_auc_score(y_test, y_pred_proba[:, 1]), 4)\n",
        "    auc_train = round(roc_auc_score(y_train, y_pred_proba_train[:, 1]), 4)\n",
        "\n",
        "    return accuracy, precision, recall, f1, mcc, auc_test, auc_train\n",
        "def eval_after_hyperparameter_tuning(model, X_train, y_train, X_test, y_test):\n",
        "    eval_new = eval_classification(model, X_train, y_train, X_test, y_test)\n",
        "    eval_score = [\"Accuracy\", \"Precision\", \"Recall\", \"F1 Score\", \"AUC (Test)\", \"AUC (Train)\"]\n",
        "    for score, e in zip(eval_score, eval_new):\n",
        "        print(score + \": \" + str(e))\n",
        "# ベストモデルでの再評価\n",
        "eval_after_hyperparameter_tuning(grid_search_model, X_train, y_train, X_val, y_val)\n"
      ]
    },
    {
      "cell_type": "code",
      "execution_count": 10,
      "metadata": {
        "colab": {
          "base_uri": "https://localhost:8080/"
        },
        "id": "Ug4lT5n5rBbp",
        "outputId": "8becd0d4-738d-4ded-8621-d1a44e16aa1d"
      },
      "outputs": [
        {
          "output_type": "stream",
          "name": "stdout",
          "text": [
            "[0]\ttrain-logloss:0.52235\teval-logloss:0.43629\n",
            "[1]\ttrain-logloss:0.47114\teval-logloss:0.40718\n",
            "[2]\ttrain-logloss:0.42145\teval-logloss:0.37662\n",
            "[3]\ttrain-logloss:0.39446\teval-logloss:0.36137\n",
            "[4]\ttrain-logloss:0.38149\teval-logloss:0.35591\n",
            "[5]\ttrain-logloss:0.35171\teval-logloss:0.34130\n",
            "[6]\ttrain-logloss:0.33027\teval-logloss:0.32976\n",
            "[7]\ttrain-logloss:0.32184\teval-logloss:0.32386\n",
            "[8]\ttrain-logloss:0.30290\teval-logloss:0.31616\n",
            "[9]\ttrain-logloss:0.29558\teval-logloss:0.31356\n",
            "[10]\ttrain-logloss:0.28602\teval-logloss:0.31124\n",
            "[11]\ttrain-logloss:0.27421\teval-logloss:0.30665\n",
            "[12]\ttrain-logloss:0.26970\teval-logloss:0.30563\n",
            "[13]\ttrain-logloss:0.26621\teval-logloss:0.30372\n",
            "[14]\ttrain-logloss:0.26337\teval-logloss:0.30299\n",
            "[15]\ttrain-logloss:0.25726\teval-logloss:0.30391\n",
            "[16]\ttrain-logloss:0.25633\teval-logloss:0.30336\n",
            "[17]\ttrain-logloss:0.25414\teval-logloss:0.30262\n",
            "[18]\ttrain-logloss:0.24940\teval-logloss:0.30001\n",
            "[19]\ttrain-logloss:0.24786\teval-logloss:0.30022\n",
            "[20]\ttrain-logloss:0.24754\teval-logloss:0.29997\n",
            "[21]\ttrain-logloss:0.24731\teval-logloss:0.29980\n",
            "[22]\ttrain-logloss:0.24721\teval-logloss:0.29976\n",
            "[23]\ttrain-logloss:0.24721\teval-logloss:0.29976\n",
            "[24]\ttrain-logloss:0.24721\teval-logloss:0.29976\n",
            "[25]\ttrain-logloss:0.24721\teval-logloss:0.29976\n",
            "[26]\ttrain-logloss:0.24721\teval-logloss:0.29976\n",
            "[27]\ttrain-logloss:0.24721\teval-logloss:0.29976\n",
            "[28]\ttrain-logloss:0.24721\teval-logloss:0.29976\n",
            "[29]\ttrain-logloss:0.24721\teval-logloss:0.29976\n",
            "[30]\ttrain-logloss:0.24721\teval-logloss:0.29976\n",
            "[31]\ttrain-logloss:0.24721\teval-logloss:0.29976\n",
            "[32]\ttrain-logloss:0.24721\teval-logloss:0.29976\n"
          ]
        }
      ],
      "source": [
        "\n",
        "# 最終モデルの学習\n",
        "dtrain = xgb.DMatrix(X_train, label=y_train)\n",
        "dval = xgb.DMatrix(X_val, label=y_val)\n",
        "dtest = xgb.DMatrix(X_test)\n",
        "\n",
        "# 最適なパラメータを使用してXGBoostモデルの学習\n",
        "params = {\n",
        "    \"objective\": \"binary:logistic\",  # 二値分類タスク\n",
        "    \"max_depth\": best_params[\"max_depth\"],  # 最適な木の深さ\n",
        "    \"min_child_weight\": best_params[\"min_child_weight\"],\n",
        "    \"gamma\": best_params[\"gamma\"],\n",
        "    \"tree_method\": best_params[\"tree_method\"],\n",
        "    \"colsample_bytree\": best_params[\"colsample_bytree\"],\n",
        "    \"learning_rate\": best_params[\"learning_rate\"],\n",
        "    \"reg_lambda\": best_params[\"reg_lambda\"],\n",
        "    \"reg_alpha\": best_params[\"reg_alpha\"],\n",
        "    \"eval_metric\": \"logloss\"  # 評価指標\n",
        "}\n",
        "\n",
        "evals = [(dtrain, \"train\"), (dval, \"eval\")]\n",
        "bst = xgb.train(params, dtrain, num_boost_round=100, evals=evals, early_stopping_rounds=10)\n"
      ]
    },
    {
      "cell_type": "code",
      "execution_count": 11,
      "metadata": {
        "id": "B8AaGvwSrBbp"
      },
      "outputs": [],
      "source": [
        "# modelの保存\n",
        "pickle.dump(bst, open(\"best_model.pkl\", \"wb\"))"
      ]
    },
    {
      "cell_type": "code",
      "execution_count": 12,
      "metadata": {
        "colab": {
          "base_uri": "https://localhost:8080/"
        },
        "id": "qfg4btsJrBbp",
        "outputId": "88bae724-c2dc-4432-b28a-420d4f80eced"
      },
      "outputs": [
        {
          "output_type": "stream",
          "name": "stdout",
          "text": [
            "Validation AUC ROC: 0.8462\n"
          ]
        }
      ],
      "source": [
        "\n",
        "\n",
        "# 検証データに対する予測（確率値）\n",
        "y_pred_val = bst.predict(dval)\n",
        "\n",
        "# AUC ROCの評価\n",
        "auc_roc = roc_auc_score(y_val, y_pred_val)\n",
        "print(f\"Validation AUC ROC: {auc_roc:.4f}\")\n"
      ]
    },
    {
      "cell_type": "code",
      "source": [
        "# テストデータに対する予測（確率値）\n",
        "predictions = bst.predict(dtest)\n",
        "\n",
        "# 元データのIDカラムを抽出\n",
        "test_ids = test_df['id']  # 'id'カラム名は実際のデータに合わせて変更してください\n",
        "\n",
        "# 予測結果とIDを結合\n",
        "submission_df = pd.DataFrame({\n",
        "    'id': test_ids,\n",
        "    'prediction': predictions\n",
        "})\n",
        "\n",
        "# CSVファイルとして保存\n",
        "submission_df.to_csv('submission_xgboost.csv', index=False, header=None)"
      ],
      "metadata": {
        "id": "Lwi12RFPuAq9"
      },
      "execution_count": 14,
      "outputs": []
    }
  ],
  "metadata": {
    "kernelspec": {
      "display_name": ".venv",
      "language": "python",
      "name": "python3"
    },
    "language_info": {
      "codemirror_mode": {
        "name": "ipython",
        "version": 3
      },
      "file_extension": ".py",
      "mimetype": "text/x-python",
      "name": "python",
      "nbconvert_exporter": "python",
      "pygments_lexer": "ipython3",
      "version": "3.10.2"
    },
    "colab": {
      "provenance": []
    }
  },
  "nbformat": 4,
  "nbformat_minor": 0
}